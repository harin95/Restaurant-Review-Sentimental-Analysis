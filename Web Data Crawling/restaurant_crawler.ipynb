{
 "cells": [
  {
   "cell_type": "code",
   "execution_count": 70,
   "id": "c03a60c9",
   "metadata": {},
   "outputs": [],
   "source": [
    "#주피터 노트북에서 작성된 코드입니다.\n",
    "from selenium import webdriver\n",
    "import time\n",
    "from bs4 import BeautifulSoup\n",
    "import re\n",
    "import random"
   ]
  },
  {
   "cell_type": "code",
   "execution_count": 71,
   "id": "a88b5826",
   "metadata": {},
   "outputs": [],
   "source": [
    "#selenium 사용법은 아래 링크를 참고하여 작성하였습니다. \n",
    "#https://scaredev.tistory.com/3"
   ]
  },
  {
   "cell_type": "code",
   "execution_count": 72,
   "id": "245dccf2",
   "metadata": {},
   "outputs": [
    {
     "name": "stderr",
     "output_type": "stream",
     "text": [
      "C:\\Users\\dbals\\AppData\\Local\\Temp/ipykernel_1892/3129646727.py:2: DeprecationWarning: executable_path has been deprecated, please pass in a Service object\n",
      "  driver = webdriver.Chrome('C:/Users/dbals/chromedriver.exe') # 크롬드라이버 경로 설정\n"
     ]
    }
   ],
   "source": [
    "# url입력\n",
    "driver = webdriver.Chrome('C:/Users/dbals/chromedriver.exe') # 크롬드라이버 경로 설정\n",
    "url = \"https://www.yogiyo.co.kr/\" # 사이트 입력\n",
    "driver.get(url) # 사이트 오픈\n",
    "driver.maximize_window() # 전체장\n",
    "time.sleep(2) # 2초 지연"
   ]
  },
  {
   "cell_type": "code",
   "execution_count": 73,
   "id": "9b274d48",
   "metadata": {},
   "outputs": [
    {
     "name": "stderr",
     "output_type": "stream",
     "text": [
      "C:\\Users\\dbals\\AppData\\Local\\Temp/ipykernel_1892/515801294.py:3: DeprecationWarning: find_element_by_* commands are deprecated. Please use find_element() instead\n",
      "  element = driver.find_element_by_xpath(xpath)\n"
     ]
    }
   ],
   "source": [
    "# 검색창 선택\n",
    "xpath = '''//*[@id=\"search\"]/div/form/input'''  # 검색창\n",
    "element = driver.find_element_by_xpath(xpath)\n",
    "element.clear()\n",
    "time.sleep(2)"
   ]
  },
  {
   "cell_type": "code",
   "execution_count": 74,
   "id": "eac5014f",
   "metadata": {},
   "outputs": [
    {
     "name": "stdout",
     "output_type": "stream",
     "text": [
      "인천시 연수구\n"
     ]
    },
    {
     "name": "stderr",
     "output_type": "stream",
     "text": [
      "C:\\Users\\dbals\\AppData\\Local\\Temp/ipykernel_1892/3717396968.py:18: DeprecationWarning: find_element_by_* commands are deprecated. Please use find_element() instead\n",
      "  search = driver.find_element_by_css_selector(search_selector)\n"
     ]
    }
   ],
   "source": [
    "# 검색창 입력\n",
    "\n",
    "seoul = ['서울시 노원구','서울시 영등포구','서울시 구로구','서울시 성동구','서울시 마포구','서울시 종로구','서울시 강남구','서울시 강동구','서울시 중구','서울시 서초구','서울시 용산구']\n",
    "gyeong_gi = ['경기도 구리','경기도 광명','경기도 남양주','경기도 과천','경기도 부천','경기도 시흥시','경기도 고양시','경기도 하남','경기도 성남','경기도 파주시','경기도 김포','경기도 용인','경기도 수원','경기도 안산','경기도 동두천']\n",
    "incheon = ['인천시 부평구','인천시 계양구','인천시 연수구','인천시 미추홀구','인천시 중구','인천시 동구','인천시 남동구','인천시 서구']\n",
    "deagu = ['대구광역시 수성구','대구광역시 달서구','대구광역시 중구']\n",
    "busan = ['부산 해운대구','부산 수영구','부산 동래구','부산 동래구','청주 상당구']\n",
    "region_list = seoul + gyeong_gi + incheon + deagu + busan\n",
    "value = random.choice(region_list) #지역 랜덤\n",
    "element.send_keys(value)\n",
    "time.sleep(2)\n",
    "\n",
    "#어느지역인지 알려주십시오\n",
    "print(value)\n",
    "\n",
    "#검색 버튼.\n",
    "search_selector = '#button_search_address > button.btn.btn-default.ico-pick'\n",
    "search = driver.find_element_by_css_selector(search_selector)\n",
    "search.click()\n",
    "time.sleep(3)\n",
    "\n",
    "#driver.find_element_by_css_selector(\"#search > div > form > ul > li:nth-child(3) > a\")"
   ]
  },
  {
   "cell_type": "code",
   "execution_count": 75,
   "id": "363c5ef0",
   "metadata": {},
   "outputs": [
    {
     "name": "stderr",
     "output_type": "stream",
     "text": [
      "C:\\Users\\dbals\\AppData\\Local\\Temp/ipykernel_1892/4190220080.py:4: DeprecationWarning: find_element_by_* commands are deprecated. Please use find_element() instead\n",
      "  driver.find_element_by_xpath(search_xpath).click()\n"
     ]
    }
   ],
   "source": [
    "# 조회버튼 클릭\n",
    "\n",
    "search_xpath = '''//*[@id=\"button_search_address\"]/button[2]'''\n",
    "driver.find_element_by_xpath(search_xpath).click()"
   ]
  },
  {
   "cell_type": "code",
   "execution_count": 76,
   "id": "4308b372",
   "metadata": {},
   "outputs": [
    {
     "name": "stderr",
     "output_type": "stream",
     "text": [
      "C:\\Users\\dbals\\AppData\\Local\\Temp/ipykernel_1892/3418472050.py:3: DeprecationWarning: find_element_by_* commands are deprecated. Please use find_element() instead\n",
      "  driver.find_element_by_xpath('''//*[@id=\"search\"]/div/form/ul/li[3]/a''').click()\n",
      "C:\\Users\\dbals\\AppData\\Local\\Temp/ipykernel_1892/3418472050.py:7: DeprecationWarning: find_element_by_* commands are deprecated. Please use find_element() instead\n",
      "  driver.find_element_by_xpath(search_xpath).click()\n"
     ]
    }
   ],
   "source": [
    "# 주소 선택 및 검색 콤보 상자 선택. \n",
    "\n",
    "driver.find_element_by_xpath('''//*[@id=\"search\"]/div/form/ul/li[3]/a''').click()\n",
    "time.sleep(3)\n",
    "\n",
    "search_xpath = '''//*[@id=\"button_search_address\"]/button[2]'''\n",
    "driver.find_element_by_xpath(search_xpath).click()"
   ]
  },
  {
   "cell_type": "code",
   "execution_count": 77,
   "id": "14432e7d",
   "metadata": {},
   "outputs": [
    {
     "name": "stderr",
     "output_type": "stream",
     "text": [
      "C:\\Users\\dbals\\AppData\\Local\\Temp/ipykernel_1892/3272494743.py:3: DeprecationWarning: find_element_by_* commands are deprecated. Please use find_element() instead\n",
      "  search = driver.find_element_by_css_selector(search_selector)\n"
     ]
    }
   ],
   "source": [
    " \n",
    "search_selector = '#button_search_address > button.btn.btn-default.ico-pick'\n",
    "# #button_search_address > button.btn.btn-default.ico-pick\n",
    "search = driver.find_element_by_css_selector(search_selector)\n",
    "search.click()\n",
    "time.sleep(3)"
   ]
  },
  {
   "cell_type": "code",
   "execution_count": 78,
   "id": "c3bc87c8",
   "metadata": {},
   "outputs": [
    {
     "name": "stderr",
     "output_type": "stream",
     "text": [
      "C:\\Users\\dbals\\AppData\\Local\\Temp/ipykernel_1892/3155208256.py:14: DeprecationWarning: find_element_by_* commands are deprecated. Please use find_element() instead\n",
      "  search = driver.find_element_by_css_selector(search_selector)\n"
     ]
    }
   ],
   "source": [
    "#음식점 선택\n",
    "\n",
    "#맨 위에 뜨는 가게 top10 중 아무데서나 가져온다.(별점순이 아님)\n",
    "i = random.randint(1,10)\n",
    "#오류 발생시 더 작은 숫자로 줄여줘야 합니다.\n",
    "#검색 가능한 음식점 수의 문제. \n",
    "\n",
    "#search_selector는 슈퍼 레드위크 또는 요기요 등록 음식점 중 하나 입력\n",
    "#슈퍼 레드위크 추천\n",
    "#search_selector = '#content > div > div:nth-child(3) > div > div.restaurant-list > div:nth-child('+str(i)+') > div > table > tbody > tr > td:nth-child(2) > div > div.restaurant-name.ng-binding'\n",
    "\n",
    "#요기요 등록 음식점.\n",
    "search_selector = '#content > div > div:nth-child(4) > div > div.restaurant-list > div:nth-child('+str(i)+') > div > table > tbody > tr > td:nth-child(2) > div > div.restaurant-name.ng-binding'\n",
    "search = driver.find_element_by_css_selector(search_selector)\n",
    "search.click()\n",
    "time.sleep(3)\n",
    "\n"
   ]
  },
  {
   "cell_type": "code",
   "execution_count": 79,
   "id": "22846764",
   "metadata": {},
   "outputs": [],
   "source": [
    "################################\n",
    "#데이터 불균형 때문에 평점 낮은 음식점 링크를 따로 넣어주는 블럭.\n",
    "#아래 코드 다섯 줄 주석 해제 후 사용.\n",
    "#라이브러리 import 이후 여기로.\n",
    "#여기서 run all below\n",
    "######################\n",
    "\n",
    "#driver = webdriver.Chrome('C:/Users/dbals/chromedriver.exe') # 크롬드라이버 경로 설정\n",
    "#url = 'https://www.yogiyo.co.kr/mobile/#/300035/'\n",
    "#driver.get(url)\n",
    "#driver.maximize_window() # 전체장\n",
    "#time.sleep(2) # 2초 지연"
   ]
  },
  {
   "cell_type": "code",
   "execution_count": 80,
   "id": "4a586702",
   "metadata": {},
   "outputs": [
    {
     "name": "stdout",
     "output_type": "stream",
     "text": [
      "1989'sPIZZA-인천직영점\n"
     ]
    }
   ],
   "source": [
    "#업체명, 리뷰수 가져오기 위한 html코드\n",
    "html = driver.page_source\n",
    "html_source = BeautifulSoup(html, 'html.parser')\n",
    "\n",
    "#업체명 가져오기. \n",
    "restaurant_name = html_source.find(\"span\", attrs = {\"class\":\"restaurant-name ng-binding\",\"ng-bind\":\"restaurant.name\"})\n",
    "restaurant_name = str(restaurant_name)\n",
    "restaurant_name = restaurant_name.replace(\"<span class=\\\"restaurant-name ng-binding\\\" ng-bind=\\\"restaurant.name\\\">\",\"\")\n",
    "restaurant_name = restaurant_name.replace(\"</span>\",\"\")\n",
    "print(restaurant_name)\n"
   ]
  },
  {
   "cell_type": "code",
   "execution_count": 81,
   "id": "63d4c8d1",
   "metadata": {},
   "outputs": [
    {
     "name": "stderr",
     "output_type": "stream",
     "text": [
      "C:\\Users\\dbals\\AppData\\Local\\Temp/ipykernel_1892/3554402563.py:3: DeprecationWarning: find_element_by_* commands are deprecated. Please use find_element() instead\n",
      "  driver.find_element_by_xpath(search_xpath).click()\n"
     ]
    }
   ],
   "source": [
    "#리뷰란 클릭\n",
    "search_xpath = '''//*[@id=\"content\"]/div[2]/div[1]/ul/li[2]/a'''\n",
    "driver.find_element_by_xpath(search_xpath).click()\n",
    "time.sleep(3)"
   ]
  },
  {
   "cell_type": "code",
   "execution_count": 82,
   "id": "86919579",
   "metadata": {},
   "outputs": [],
   "source": [
    "#스크롤 내리기\n",
    "driver.execute_script(\"window.scrollTo(0, document.body.scrollHeight)\") # 스크롤을 가장 아래로 내린다\n",
    "time.sleep(2)\n",
    "pre_height = driver.execute_script(\"return document.body.scrollHeight\") # 현재 스크롤 위치 저장\n",
    "\n",
    "while True :\n",
    "    driver.execute_script(\"window.scrollTo(0, document.body.scrollHeight)\")  # 스크롤을 가장 아래로 내린다\n",
    "    cur_height = driver.execute_script(\"return document.body.scrollHeight\")  # 현재 스크롤을 저장한다.\n",
    "    if pre_height == cur_height :\n",
    "        break\n",
    "    pre_height == cur_height"
   ]
  },
  {
   "cell_type": "code",
   "execution_count": 83,
   "id": "7a21ff5a",
   "metadata": {},
   "outputs": [
    {
     "name": "stdout",
     "output_type": "stream",
     "text": [
      "1291\n"
     ]
    }
   ],
   "source": [
    "html = driver.page_source\n",
    "html_source = BeautifulSoup(html, 'html.parser')\n",
    "\n",
    "#리뷰 수 확인. \n",
    "num_review = html_source.find(\"a\",attrs = {\"ng-click\":\"toggle_tab(\\\"review\\\")\",\"data-toggle\":\"tab\"})\n",
    "\n",
    "#리뷰 개수 숫자만 남기기\n",
    "num_review = str(num_review)\n",
    "num_review = num_review.replace(\"<a data-toggle=\\\"tab\\\" ng-click='toggle_tab(\\\"review\\\")'>\",\"\")\n",
    "num_review = num_review.replace(\"클린리뷰 <span class=\\\"ng-binding\\\">\",\"\")\n",
    "num_review = num_review.replace(\"</span></a>\",\"\")\n",
    "num_review = int(num_review)\n",
    "\n",
    "print(num_review)"
   ]
  },
  {
   "cell_type": "code",
   "execution_count": 84,
   "id": "0fcf4c2e",
   "metadata": {
    "scrolled": true
   },
   "outputs": [
    {
     "name": "stderr",
     "output_type": "stream",
     "text": [
      "C:\\Users\\dbals\\AppData\\Local\\Temp/ipykernel_1892/248320040.py:18: DeprecationWarning: find_element_by_* commands are deprecated. Please use find_element() instead\n",
      "  search = driver.find_element_by_css_selector(\"#review > li.list-group-item.btn-more > a\")\n"
     ]
    },
    {
     "name": "stdout",
     "output_type": "stream",
     "text": [
      "1 번째 더보기 클릭중.\n"
     ]
    },
    {
     "ename": "KeyboardInterrupt",
     "evalue": "",
     "output_type": "error",
     "traceback": [
      "\u001b[1;31m---------------------------------------------------------------------------\u001b[0m",
      "\u001b[1;31mKeyboardInterrupt\u001b[0m                         Traceback (most recent call last)",
      "\u001b[1;32m~\\AppData\\Local\\Temp/ipykernel_1892/248320040.py\u001b[0m in \u001b[0;36m<module>\u001b[1;34m\u001b[0m\n\u001b[0;32m     21\u001b[0m \u001b[1;33m\u001b[0m\u001b[0m\n\u001b[0;32m     22\u001b[0m     \u001b[0mdriver\u001b[0m\u001b[1;33m.\u001b[0m\u001b[0mexecute_script\u001b[0m\u001b[1;33m(\u001b[0m\u001b[1;34m\"window.scrollTo(0, document.body.scrollHeight)\"\u001b[0m\u001b[1;33m)\u001b[0m \u001b[1;31m# 스크롤을 가장 아래로 내린다\u001b[0m\u001b[1;33m\u001b[0m\u001b[1;33m\u001b[0m\u001b[0m\n\u001b[1;32m---> 23\u001b[1;33m     \u001b[0mtime\u001b[0m\u001b[1;33m.\u001b[0m\u001b[0msleep\u001b[0m\u001b[1;33m(\u001b[0m\u001b[1;36m2\u001b[0m\u001b[1;33m)\u001b[0m\u001b[1;33m\u001b[0m\u001b[1;33m\u001b[0m\u001b[0m\n\u001b[0m\u001b[0;32m     24\u001b[0m     \u001b[0mpre_height\u001b[0m \u001b[1;33m=\u001b[0m \u001b[0mdriver\u001b[0m\u001b[1;33m.\u001b[0m\u001b[0mexecute_script\u001b[0m\u001b[1;33m(\u001b[0m\u001b[1;34m\"return document.body.scrollHeight\"\u001b[0m\u001b[1;33m)\u001b[0m \u001b[1;31m# 현재 스크롤 위치 저장\u001b[0m\u001b[1;33m\u001b[0m\u001b[1;33m\u001b[0m\u001b[0m\n\u001b[0;32m     25\u001b[0m \u001b[1;33m\u001b[0m\u001b[0m\n",
      "\u001b[1;31mKeyboardInterrupt\u001b[0m: "
     ]
    }
   ],
   "source": [
    "#더보기 누르기\n",
    "\n",
    "# 로고 : #header > div > div.navigation.ver-pc > div.nav-top.clearfix > h1\n",
    "\n",
    "# 10,20 등 10의 배수는 num_review//10보다 1번 덜 눌러야 함\n",
    "# 19 18 27 등은 num_review//10번만큼 눌러야됨. \n",
    "loop = 0\n",
    "if num_review%10 == 0:\n",
    "    loop = (num_review //10) -1\n",
    "elif num_review>10 and (num_review%10)!=0:\n",
    "    loop = (num_review//10)\n",
    "\n",
    "#한 음식점 당 가져올 리뷰 수는 최대 2010개로 제한.    \n",
    "if loop > 200:\n",
    "    loop = 200\n",
    "    \n",
    "for i in range(loop):\n",
    "    search = driver.find_element_by_css_selector(\"#review > li.list-group-item.btn-more > a\")\n",
    "    search.click()\n",
    "    time.sleep(3)\n",
    "    \n",
    "    driver.execute_script(\"window.scrollTo(0, document.body.scrollHeight)\") # 스크롤을 가장 아래로 내린다\n",
    "    time.sleep(2)\n",
    "    pre_height = driver.execute_script(\"return document.body.scrollHeight\") # 현재 스크롤 위치 저장\n",
    "\n",
    "    while True :\n",
    "        driver.execute_script(\"window.scrollTo(0, document.body.scrollHeight)\")  # 스크롤을 가장 아래로 내린다\n",
    "        cur_height = driver.execute_script(\"return document.body.scrollHeight\")  # 현재 스크롤을 저장한다.\n",
    "        if pre_height == cur_height :\n",
    "            break\n",
    "        pre_height == cur_height\n",
    "    print(i+1,\"번째 더보기 클릭중.\")\n",
    "\n",
    "print(\"루프 끝\")"
   ]
  },
  {
   "cell_type": "code",
   "execution_count": 85,
   "id": "77b31b8c",
   "metadata": {},
   "outputs": [],
   "source": [
    "#더보기 누른 다음에 한번 더 가져와야 모든 리뷰가 반영됨.\n",
    "html = driver.page_source\n",
    "html_source = BeautifulSoup(html, 'html.parser')\n",
    "\n",
    "\n",
    "\n",
    "#리뷰\n",
    "review = html_source.find_all(\"p\",attrs = {\"ng-show\":\"review.comment\",\"ng-bind-html\":\"review.comment|strip_html\",\"class\":\"ng-binding\"})\n",
    "#print(review)\n",
    "\n",
    "#별점\n",
    "score_list = html_source.find_all(\"span\",class_ =\"total\")\n",
    "star_list = []\n",
    "for score in score_list:\n",
    "    num = 0\n",
    "    star = score.find_all(\"span\",class_=\"full ng-scope\")\n",
    "    star_list.append(len(star))\n",
    "#print(star_list)"
   ]
  },
  {
   "cell_type": "code",
   "execution_count": 86,
   "id": "feb482ff",
   "metadata": {},
   "outputs": [],
   "source": [
    "w_file = open(\"restaurant_crawler.txt\", \"a\",encoding='utf-8') #a는 추가 모드."
   ]
  },
  {
   "cell_type": "code",
   "execution_count": 88,
   "id": "5c2a0578",
   "metadata": {},
   "outputs": [],
   "source": [
    "#txt파일 내부는 리뷰 탭 별점 탭 식당이름 으로 구성. \n",
    "i = 0\n",
    "for r, s in zip(review, star_list):\n",
    "    \n",
    "    #html에서 받아온 tag타입 객체들 str타입으로 변환\n",
    "    #앞뒤 태깅 없애기. \n",
    "    r = str(r)\n",
    "    r = r.replace(\"<p class=\\\"ng-binding\\\" ng-bind-html=\\\"review.comment|strip_html\\\" ng-show=\\\"review.comment\\\">\",\"\")\n",
    "    r = r.replace(\"</p>\",\"\")\n",
    "    r = r.replace(\"\\n\",\" \")\n",
    "\n",
    "    w_file.write(str(i))\n",
    "    w_file.write('\\t')\n",
    "    w_file.write(r)\n",
    "    w_file.write('\\t'+ str(s))\n",
    "    w_file.write('\\t'+str(restaurant_name)+'\\n')\n",
    "    i += 1\n",
    "    #제대로 받아오고 있는지 확인하고 싶은 경우 아래 주석 해제\n",
    "    #print(r,s)\n",
    "    #print(r+'\\t'+str(s)+'\\t'+str(restaurant_name)+'\\n')"
   ]
  },
  {
   "cell_type": "code",
   "execution_count": 89,
   "id": "687e9640",
   "metadata": {},
   "outputs": [],
   "source": [
    "w_file.close() #메모장 닫기.\n",
    "driver.close() #크롬드라이버 닫기.."
   ]
  },
  {
   "cell_type": "code",
   "execution_count": 90,
   "id": "3ff05791",
   "metadata": {},
   "outputs": [],
   "source": [
    "import pandas as pd\n",
    "train = pd.read_table('restaurant_crawler.txt')\n",
    "#긁어온 리뷰데이터가 0일 경우 오류 발생.\n",
    "#큰 문제는 아니므로 다시 run all."
   ]
  },
  {
   "cell_type": "code",
   "execution_count": 91,
   "id": "e633d9c7",
   "metadata": {
    "scrolled": true
   },
   "outputs": [
    {
     "data": {
      "text/html": [
       "<div>\n",
       "<style scoped>\n",
       "    .dataframe tbody tr th:only-of-type {\n",
       "        vertical-align: middle;\n",
       "    }\n",
       "\n",
       "    .dataframe tbody tr th {\n",
       "        vertical-align: top;\n",
       "    }\n",
       "\n",
       "    .dataframe thead th {\n",
       "        text-align: right;\n",
       "    }\n",
       "</style>\n",
       "<table border=\"1\" class=\"dataframe\">\n",
       "  <thead>\n",
       "    <tr style=\"text-align: right;\">\n",
       "      <th></th>\n",
       "      <th>0</th>\n",
       "      <th>맛있어욥 또시킬게욥</th>\n",
       "      <th>5</th>\n",
       "      <th>1989'sPIZZA-인천직영점</th>\n",
       "    </tr>\n",
       "  </thead>\n",
       "  <tbody>\n",
       "    <tr>\n",
       "      <th>24</th>\n",
       "      <td>25</td>\n",
       "      <td>배달 기사가 음식을 잘못 갖다놔서 문제가 생겼지만 사장님의 빠른 대처와 잘못이 없으...</td>\n",
       "      <td>5</td>\n",
       "      <td>1989'sPIZZA-인천직영점</td>\n",
       "    </tr>\n",
       "    <tr>\n",
       "      <th>25</th>\n",
       "      <td>26</td>\n",
       "      <td>너무 맛있게 잘 먹었습니다</td>\n",
       "      <td>5</td>\n",
       "      <td>1989'sPIZZA-인천직영점</td>\n",
       "    </tr>\n",
       "    <tr>\n",
       "      <th>26</th>\n",
       "      <td>27</td>\n",
       "      <td>빠른 배달에 따뜻하고 쫄깃한 피자 맛있게 먹었습니다. 스파게티도 맛나구요. 서비스 ...</td>\n",
       "      <td>5</td>\n",
       "      <td>1989'sPIZZA-인천직영점</td>\n",
       "    </tr>\n",
       "    <tr>\n",
       "      <th>27</th>\n",
       "      <td>28</td>\n",
       "      <td>난 피자도다 스파게티가 더 좋다~   하지만  둘다 잘먹었다ㅋ</td>\n",
       "      <td>4</td>\n",
       "      <td>1989'sPIZZA-인천직영점</td>\n",
       "    </tr>\n",
       "    <tr>\n",
       "      <th>28</th>\n",
       "      <td>29</td>\n",
       "      <td>조금식었지만 맛있었습니다.</td>\n",
       "      <td>5</td>\n",
       "      <td>1989'sPIZZA-인천직영점</td>\n",
       "    </tr>\n",
       "  </tbody>\n",
       "</table>\n",
       "</div>"
      ],
      "text/plain": [
       "     0                                         맛있어욥 또시킬게욥  5  \\\n",
       "24  25  배달 기사가 음식을 잘못 갖다놔서 문제가 생겼지만 사장님의 빠른 대처와 잘못이 없으...  5   \n",
       "25  26                                     너무 맛있게 잘 먹었습니다  5   \n",
       "26  27  빠른 배달에 따뜻하고 쫄깃한 피자 맛있게 먹었습니다. 스파게티도 맛나구요. 서비스 ...  5   \n",
       "27  28                 난 피자도다 스파게티가 더 좋다~   하지만  둘다 잘먹었다ㅋ  4   \n",
       "28  29                                     조금식었지만 맛있었습니다.  5   \n",
       "\n",
       "    1989'sPIZZA-인천직영점  \n",
       "24  1989'sPIZZA-인천직영점  \n",
       "25  1989'sPIZZA-인천직영점  \n",
       "26  1989'sPIZZA-인천직영점  \n",
       "27  1989'sPIZZA-인천직영점  \n",
       "28  1989'sPIZZA-인천직영점  "
      ]
     },
     "execution_count": 91,
     "metadata": {},
     "output_type": "execute_result"
    }
   ],
   "source": [
    "train[-5:]"
   ]
  }
 ],
 "metadata": {
  "kernelspec": {
   "display_name": "Python 3 (ipykernel)",
   "language": "python",
   "name": "python3"
  },
  "language_info": {
   "codemirror_mode": {
    "name": "ipython",
    "version": 3
   },
   "file_extension": ".py",
   "mimetype": "text/x-python",
   "name": "python",
   "nbconvert_exporter": "python",
   "pygments_lexer": "ipython3",
   "version": "3.8.12"
  }
 },
 "nbformat": 4,
 "nbformat_minor": 5
}
