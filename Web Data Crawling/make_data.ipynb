{
 "cells": [
  {
   "cell_type": "code",
   "execution_count": 24,
   "id": "5236262f",
   "metadata": {},
   "outputs": [],
   "source": [
    "#주피터 노트북에서 작성된 코드입니다.\n",
    "import pandas as pd\n",
    "train = pd.read_table('restaurant_crawler.txt') #raw data"
   ]
  },
  {
   "cell_type": "code",
   "execution_count": 26,
   "id": "aa22f328",
   "metadata": {},
   "outputs": [
    {
     "name": "stdout",
     "output_type": "stream",
     "text": [
      "총 샘플의 수 : 29\n"
     ]
    }
   ],
   "source": [
    "print('총 샘플의 수 :',len(train))"
   ]
  },
  {
   "cell_type": "code",
   "execution_count": 27,
   "id": "841fba86",
   "metadata": {},
   "outputs": [
    {
     "data": {
      "text/html": [
       "<div>\n",
       "<style scoped>\n",
       "    .dataframe tbody tr th:only-of-type {\n",
       "        vertical-align: middle;\n",
       "    }\n",
       "\n",
       "    .dataframe tbody tr th {\n",
       "        vertical-align: top;\n",
       "    }\n",
       "\n",
       "    .dataframe thead th {\n",
       "        text-align: right;\n",
       "    }\n",
       "</style>\n",
       "<table border=\"1\" class=\"dataframe\">\n",
       "  <thead>\n",
       "    <tr style=\"text-align: right;\">\n",
       "      <th></th>\n",
       "      <th>0</th>\n",
       "      <th>맛있어욥 또시킬게욥</th>\n",
       "      <th>5</th>\n",
       "      <th>1989'sPIZZA-인천직영점</th>\n",
       "    </tr>\n",
       "  </thead>\n",
       "  <tbody>\n",
       "    <tr>\n",
       "      <th>24</th>\n",
       "      <td>25</td>\n",
       "      <td>배달 기사가 음식을 잘못 갖다놔서 문제가 생겼지만 사장님의 빠른 대처와 잘못이 없으...</td>\n",
       "      <td>5</td>\n",
       "      <td>1989'sPIZZA-인천직영점</td>\n",
       "    </tr>\n",
       "    <tr>\n",
       "      <th>25</th>\n",
       "      <td>26</td>\n",
       "      <td>너무 맛있게 잘 먹었습니다</td>\n",
       "      <td>5</td>\n",
       "      <td>1989'sPIZZA-인천직영점</td>\n",
       "    </tr>\n",
       "    <tr>\n",
       "      <th>26</th>\n",
       "      <td>27</td>\n",
       "      <td>빠른 배달에 따뜻하고 쫄깃한 피자 맛있게 먹었습니다. 스파게티도 맛나구요. 서비스 ...</td>\n",
       "      <td>5</td>\n",
       "      <td>1989'sPIZZA-인천직영점</td>\n",
       "    </tr>\n",
       "    <tr>\n",
       "      <th>27</th>\n",
       "      <td>28</td>\n",
       "      <td>난 피자도다 스파게티가 더 좋다~   하지만  둘다 잘먹었다ㅋ</td>\n",
       "      <td>4</td>\n",
       "      <td>1989'sPIZZA-인천직영점</td>\n",
       "    </tr>\n",
       "    <tr>\n",
       "      <th>28</th>\n",
       "      <td>29</td>\n",
       "      <td>조금식었지만 맛있었습니다.</td>\n",
       "      <td>5</td>\n",
       "      <td>1989'sPIZZA-인천직영점</td>\n",
       "    </tr>\n",
       "  </tbody>\n",
       "</table>\n",
       "</div>"
      ],
      "text/plain": [
       "     0                                         맛있어욥 또시킬게욥  5  \\\n",
       "24  25  배달 기사가 음식을 잘못 갖다놔서 문제가 생겼지만 사장님의 빠른 대처와 잘못이 없으...  5   \n",
       "25  26                                     너무 맛있게 잘 먹었습니다  5   \n",
       "26  27  빠른 배달에 따뜻하고 쫄깃한 피자 맛있게 먹었습니다. 스파게티도 맛나구요. 서비스 ...  5   \n",
       "27  28                 난 피자도다 스파게티가 더 좋다~   하지만  둘다 잘먹었다ㅋ  4   \n",
       "28  29                                     조금식었지만 맛있었습니다.  5   \n",
       "\n",
       "    1989'sPIZZA-인천직영점  \n",
       "24  1989'sPIZZA-인천직영점  \n",
       "25  1989'sPIZZA-인천직영점  \n",
       "26  1989'sPIZZA-인천직영점  \n",
       "27  1989'sPIZZA-인천직영점  \n",
       "28  1989'sPIZZA-인천직영점  "
      ]
     },
     "execution_count": 27,
     "metadata": {},
     "output_type": "execute_result"
    }
   ],
   "source": [
    "train[-5:]"
   ]
  },
  {
   "cell_type": "code",
   "execution_count": 40,
   "id": "8a7ccd7c",
   "metadata": {},
   "outputs": [],
   "source": [
    "#a는 추가 모드. 혹시모를 데이터 날림을 방지하기 위함, 데이터 전부 모은 뒤에 여기로 와서 0/1데이터로 만들기.\n",
    "w_file = open(\"restaurant_review_0or1.txt\", \"a\",encoding='utf-8') \n",
    "r_file = open('restaurant_crawler.txt', 'r', encoding='UTF8')"
   ]
  },
  {
   "cell_type": "code",
   "execution_count": 29,
   "id": "589982de",
   "metadata": {},
   "outputs": [],
   "source": [
    "#0은 id, 1은 리뷰, 2는 별점, 3은 식당. \n",
    "w_file.write('id'+'\\t'+'document'+'\\t'+'label'+'\\n')\n",
    "while True:\n",
    "    line = r_file.readline()\n",
    "    if not line: \n",
    "        break\n",
    "    column = line.split()\n",
    "    review = ' '.join(column[1:-2])\n",
    "    if column[-2] == '5':\n",
    "        w_file.write(column[0])\n",
    "        w_file.write('\\t')\n",
    "        w_file.write(review)\n",
    "        w_file.write('\\t')\n",
    "        w_file.write('1')\n",
    "        w_file.write('\\n')\n",
    "    elif column[-2] == '1' or column[-2] == '2' or column[-2] == '3':\n",
    "        w_file.write(column[0])\n",
    "        w_file.write('\\t')\n",
    "        w_file.write(review)\n",
    "        w_file.write('\\t')\n",
    "        w_file.write('0')\n",
    "        w_file.write('\\n')\n",
    "    #print(type(column[-2]))\n",
    "    #print(review)"
   ]
  },
  {
   "cell_type": "code",
   "execution_count": 41,
   "id": "ec471ee6",
   "metadata": {},
   "outputs": [],
   "source": [
    "w_file.close()\n",
    "r_file.close()"
   ]
  },
  {
   "cell_type": "code",
   "execution_count": 36,
   "id": "16210458",
   "metadata": {},
   "outputs": [],
   "source": [
    "data = pd.read_table('restaurant_review_0or1.txt')"
   ]
  },
  {
   "cell_type": "code",
   "execution_count": 37,
   "id": "92244b70",
   "metadata": {},
   "outputs": [
    {
     "data": {
      "text/plain": [
       "<AxesSubplot:>"
      ]
     },
     "execution_count": 37,
     "metadata": {},
     "output_type": "execute_result"
    },
    {
     "data": {
      "image/png": "[encoded data removed]",
      "text/plain": [
       "<Figure size 432x288 with 1 Axes>"
      ]
     },
     "metadata": {
      "needs_background": "light"
     },
     "output_type": "display_data"
    }
   ],
   "source": [
    "data['label'].value_counts().plot(kind = 'bar')"
   ]
  },
  {
   "cell_type": "code",
   "execution_count": 38,
   "id": "7c68e310",
   "metadata": {},
   "outputs": [
    {
     "data": {
      "text/plain": [
       "1    0.902742\n",
       "0    0.097258\n",
       "Name: label, dtype: float64"
      ]
     },
     "execution_count": 38,
     "metadata": {},
     "output_type": "execute_result"
    }
   ],
   "source": [
    "#label별 비율\n",
    "sum_ = data['label'].value_counts().sum()\n",
    "data['label'].value_counts()/sum_"
   ]
  },
  {
   "cell_type": "code",
   "execution_count": 39,
   "id": "5f02d663",
   "metadata": {
    "scrolled": true
   },
   "outputs": [
    {
     "data": {
      "text/html": [
       "<div>\n",
       "<style scoped>\n",
       "    .dataframe tbody tr th:only-of-type {\n",
       "        vertical-align: middle;\n",
       "    }\n",
       "\n",
       "    .dataframe tbody tr th {\n",
       "        vertical-align: top;\n",
       "    }\n",
       "\n",
       "    .dataframe thead th {\n",
       "        text-align: right;\n",
       "    }\n",
       "</style>\n",
       "<table border=\"1\" class=\"dataframe\">\n",
       "  <thead>\n",
       "    <tr style=\"text-align: right;\">\n",
       "      <th></th>\n",
       "      <th>id</th>\n",
       "      <th>document</th>\n",
       "      <th>label</th>\n",
       "    </tr>\n",
       "  </thead>\n",
       "  <tbody>\n",
       "    <tr>\n",
       "      <th>51919</th>\n",
       "      <td>2006</td>\n",
       "      <td>맛있게 잘 먹었습니다 양도 많아고 치즈토핑도 많았어요</td>\n",
       "      <td>1</td>\n",
       "    </tr>\n",
       "    <tr>\n",
       "      <th>51920</th>\n",
       "      <td>2007</td>\n",
       "      <td>맛있어요 잘먹었네요 짱입니다</td>\n",
       "      <td>1</td>\n",
       "    </tr>\n",
       "    <tr>\n",
       "      <th>51921</th>\n",
       "      <td>2008</td>\n",
       "      <td>맛있게 잘 먹었습니다 간만에 만족스런 식사를 햇네요 번창하세요</td>\n",
       "      <td>1</td>\n",
       "    </tr>\n",
       "    <tr>\n",
       "      <th>51922</th>\n",
       "      <td>2009</td>\n",
       "      <td>약간 고기가 덜 익은거 같네요 이점이 좀 아쉽네요</td>\n",
       "      <td>0</td>\n",
       "    </tr>\n",
       "    <tr>\n",
       "      <th>51923</th>\n",
       "      <td>2010</td>\n",
       "      <td>다이어트 중인데 식사챙기기 힘들어 주문했어요 어마어마한 양에 놀랐고 야채 신선도도 ...</td>\n",
       "      <td>1</td>\n",
       "    </tr>\n",
       "  </tbody>\n",
       "</table>\n",
       "</div>"
      ],
      "text/plain": [
       "         id                                           document  label\n",
       "51919  2006                      맛있게 잘 먹었습니다 양도 많아고 치즈토핑도 많았어요      1\n",
       "51920  2007                                    맛있어요 잘먹었네요 짱입니다      1\n",
       "51921  2008                 맛있게 잘 먹었습니다 간만에 만족스런 식사를 햇네요 번창하세요      1\n",
       "51922  2009                        약간 고기가 덜 익은거 같네요 이점이 좀 아쉽네요      0\n",
       "51923  2010  다이어트 중인데 식사챙기기 힘들어 주문했어요 어마어마한 양에 놀랐고 야채 신선도도 ...      1"
      ]
     },
     "execution_count": 39,
     "metadata": {},
     "output_type": "execute_result"
    }
   ],
   "source": [
    "data[-5:]"
   ]
  },
  {
   "cell_type": "code",
   "execution_count": 35,
   "id": "10bc547b",
   "metadata": {
    "scrolled": true
   },
   "outputs": [
    {
     "name": "stdout",
     "output_type": "stream",
     "text": [
      "0        1\n",
      "1        1\n",
      "2        1\n",
      "3        1\n",
      "4        1\n",
      "        ..\n",
      "51949    1\n",
      "51950    1\n",
      "51951    1\n",
      "51952    1\n",
      "51953    1\n",
      "Name: label, Length: 51954, dtype: object\n"
     ]
    }
   ],
   "source": [
    "print(data['label'])"
   ]
  },
  {
   "cell_type": "code",
   "execution_count": null,
   "id": "73691893",
   "metadata": {},
   "outputs": [],
   "source": []
  }
 ],
 "metadata": {
  "kernelspec": {
   "display_name": "Python 3 (ipykernel)",
   "language": "python",
   "name": "python3"
  },
  "language_info": {
   "codemirror_mode": {
    "name": "ipython",
    "version": 3
   },
   "file_extension": ".py",
   "mimetype": "text/x-python",
   "name": "python",
   "nbconvert_exporter": "python",
   "pygments_lexer": "ipython3",
   "version": "3.8.12"
  }
 },
 "nbformat": 4,
 "nbformat_minor": 5
}
