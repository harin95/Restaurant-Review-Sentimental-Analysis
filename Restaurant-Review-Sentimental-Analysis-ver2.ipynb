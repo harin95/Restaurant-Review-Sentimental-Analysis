{
  "nbformat": 4,
  "nbformat_minor": 0,
  "metadata": {
    "colab": {
      "name": "맛집 리뷰까지 추가 학습 시킨 후 성능 비교.ipynb",
      "provenance": [],
      "collapsed_sections": []
    },
    "kernelspec": {
      "name": "python3",
      "display_name": "Python 3"
    },
    "language_info": {
      "name": "python"
    }
  },
  "cells": [
    {
      "cell_type": "code",
      "metadata": {
        "id": "z_ScRl8sqnuO"
      },
      "source": [
        "pip install konlpy"
      ],
      "execution_count": null,
      "outputs": []
    },
    {
      "cell_type": "code",
      "metadata": {
        "id": "EQYeneaMzzOC"
      },
      "source": [
        "import pandas as pd\n",
        "import numpy as np\n",
        "import matplotlib.pyplot as plt\n",
        "from konlpy.tag import Okt\n",
        "import re\n",
        "from tqdm import tqdm\n",
        "from tensorflow.keras.preprocessing.text import Tokenizer\n",
        "from tensorflow.keras.preprocessing.sequence import pad_sequences\n",
        "from tensorflow.keras.layers import Embedding, Dense, LSTM, Bidirectional, GlobalAveragePooling1D\n",
        "from tensorflow.keras.models import Sequential\n",
        "from tensorflow.keras.models import load_model\n",
        "from tensorflow.keras.callbacks import EarlyStopping, ModelCheckpoint\n",
        "from imblearn.over_sampling import SMOTE\n",
        "import pickle\n",
        "import warnings\n",
        "warnings.filterwarnings(\"ignore\", category=np.VisibleDeprecationWarning)"
      ],
      "execution_count": null,
      "outputs": []
    },
    {
      "cell_type": "markdown",
      "metadata": {
        "id": "F-HudD1n0nzL"
      },
      "source": [
        "#데이터 전처리"
      ]
    },
    {
      "cell_type": "markdown",
      "metadata": {
        "id": "YWVlOfft0J1V"
      },
      "source": [
        "##영화 + 스팀 게임 + 맛집 리뷰 데이터 / 테스트 데이터"
      ]
    },
    {
      "cell_type": "code",
      "metadata": {
        "id": "bspJUlZ4pJhi"
      },
      "source": [
        "train_data = pd.read_table('steam_movie_matjip_train.txt')\n",
        "test_data = pd.read_table('test_sample_0or1.txt')\n",
        "\n",
        "train_data.drop_duplicates(subset = ['document'], inplace=True)\n",
        "train_data['document'] = train_data['document'].str.replace(\"[^ㄱ-ㅎㅏ-ㅣ가-힣 ]\",\"\", regex = True)\n",
        "train_data['document'] = train_data['document'].str.replace('^ +', \"\", regex = True)\n",
        "train_data['document'].replace('', np.nan, inplace=True)\n",
        "train_data = train_data.dropna(how='any')\n",
        "\n",
        "test_data.drop_duplicates(subset = ['document'], inplace=True)\n",
        "test_data['document'] = test_data['document'].str.replace(\"[^ㄱ-ㅎㅏ-ㅣ가-힣 ]\",\"\", regex = True)\n",
        "test_data['document'] = test_data['document'].str.replace('^ +', \"\", regex = True)\n",
        "test_data['document'].replace('', np.nan, inplace=True)\n",
        "test_data = test_data.dropna(how='any')\n",
        "\n",
        "print('전처리 후 트레이닝용 샘플의 개수 :',len(train_data))\n",
        "print('전처리 후 테스트용 샘플의 개수 :',len(test_data))\n",
        "\n",
        "stopwords = ['의','가','이','은','들','는','좀','잘','걍','과','도','를','으로','자','에','와','한','하다']\n",
        "okt = Okt()\n",
        "\n",
        "X_train = []\n",
        "for sentence in tqdm(train_data['document']):\n",
        "    tokenized_sentence = okt.morphs(sentence, stem=True) # 토큰화\n",
        "    stopwords_removed_sentence = [word for word in tokenized_sentence if not word in stopwords] # 불용어 제거\n",
        "    X_train.append(stopwords_removed_sentence)\n",
        "\n",
        "with open('x_train_matjip.pkl', 'wb') as f:    #리스트 저장\n",
        "    pickle.dump(X_train, f)\n",
        "\n",
        "# with open('x_train_matjip.pkl', 'rb') as f:    #저장한 리스트 로드해서 사용\n",
        "#     X_train = pickle.load(f)\n",
        "\n",
        "X_test = []\n",
        "for sentence in tqdm(test_data['document']):\n",
        "    tokenized_sentence = okt.morphs(sentence, stem=True) # 토큰화\n",
        "    stopwords_removed_sentence = [word for word in tokenized_sentence if not word in stopwords] # 불용어 제거\n",
        "    X_test.append(stopwords_removed_sentence)\n",
        "\n",
        "with open('x_test_matjip.pkl', 'wb') as f:    \n",
        "    pickle.dump(X_test, f)\n",
        "\n",
        "# with open('x_test_matjip.pkl', 'rb') as f:    \n",
        "#     X_test = pickle.load(f)\n",
        "\n",
        "tokenizer = Tokenizer()\n",
        "tokenizer.fit_on_texts(X_train)\n",
        "\n",
        "threshold = 3\n",
        "total_cnt = len(tokenizer.word_index) # 단어의 수\n",
        "rare_cnt = 0 # 등장 빈도수가 threshold보다 작은 단어의 개수를 카운트\n",
        "total_freq = 0 # 훈련 데이터의 전체 단어 빈도수 총 합\n",
        "rare_freq = 0 # 등장 빈도수가 threshold보다 작은 단어의 등장 빈도수의 총 합\n",
        "\n",
        "# 단어와 빈도수의 쌍(pair)을 key와 value로 받는다.\n",
        "for key, value in tokenizer.word_counts.items():\n",
        "    total_freq = total_freq + value\n",
        "    # 단어의 등장 빈도수가 threshold보다 작으면\n",
        "    if(value < threshold):\n",
        "        rare_cnt = rare_cnt + 1\n",
        "        rare_freq = rare_freq + value\n",
        "\n",
        "vocab_size = total_cnt - rare_cnt + 1\n",
        "\n",
        "tokenizer = Tokenizer(vocab_size)\n",
        "tokenizer.fit_on_texts(X_train)\n",
        "X_train = tokenizer.texts_to_sequences(X_train)\n",
        "X_test = tokenizer.texts_to_sequences(X_test)\n",
        "\n",
        "y_train = np.array(train_data['label'])\n",
        "y_test = np.array(test_data['label'])\n",
        "\n",
        "drop_train = [index for index, sentence in enumerate(X_train) if len(sentence) < 1]\n",
        "\n",
        "# 빈 샘플들을 제거\n",
        "X_train = np.delete(X_train, drop_train, axis=0)\n",
        "y_train = np.delete(y_train, drop_train, axis=0)\n",
        "\n",
        "print(len(X_train))\n",
        "print(len(y_train))\n",
        "\n",
        "max_len = 30\n",
        "\n",
        "X_train = pad_sequences(X_train, maxlen = max_len)\n",
        "X_test = pad_sequences(X_test, maxlen = max_len)\n",
        "\n",
        "# Oversampling\n",
        "smote = SMOTE(random_state=11)\n",
        "X_train, y_train = smote.fit_resample(X_train, y_train)\n",
        "\n",
        "print(\"Oversampling 한 트레이닝 데이터 개수 :\", X_train.shape[0])"
      ],
      "execution_count": null,
      "outputs": []
    },
    {
      "cell_type": "markdown",
      "metadata": {
        "id": "BlW-UX8b019l"
      },
      "source": [
        "#데이터 학습 및 성능 평가"
      ]
    },
    {
      "cell_type": "markdown",
      "metadata": {
        "id": "kEhlDH-S07qC"
      },
      "source": [
        "##1.DNN model"
      ]
    },
    {
      "cell_type": "markdown",
      "metadata": {
        "id": "yaTgNhaO0-ix"
      },
      "source": [
        "###case1. embedding dimension = 100"
      ]
    },
    {
      "cell_type": "code",
      "metadata": {
        "id": "zEaqVMwlpjjT"
      },
      "source": [
        "input_length = max_len\n",
        "\n",
        "embedding_dim = 100\n",
        "model_dnn_e100_adam = Sequential()\n",
        "model_dnn_e100_adam.add(Embedding(vocab_size, embedding_dim, input_length=input_length))\n",
        "model_dnn_e100_adam.add(GlobalAveragePooling1D())\n",
        "model_dnn_e100_adam.add(Dense(units=16, activation='relu'))\n",
        "model_dnn_e100_adam.add(Dense(units=4, activation='relu'))\n",
        "model_dnn_e100_adam.add(Dense(units=1, activation='sigmoid'))\n",
        "es = EarlyStopping(monitor='val_loss', mode='min', verbose=1, patience=7)\n",
        "mc = ModelCheckpoint('movie_game_matjip_e100_dnn_model_adam.h1', monitor='val_acc', mode='max', verbose=1, save_best_only=True)\n",
        "model_dnn_e100_adam.compile(optimizer='adam', loss='binary_crossentropy', metrics=['acc'])\n",
        "history = model_dnn_e100_adam.fit(X_train, y_train, epochs=15, callbacks=[es, mc], batch_size=64, validation_split=0.2)\n",
        "\n",
        "\n",
        "loaded_model = load_model('movie_game_matjip_e100_dnn_model_adam.h1')\n",
        "print(\"\\n e100 adam 맛집 테스트 정확도: %.4f\" % (loaded_model.evaluate(X_test, y_test)[1]))"
      ],
      "execution_count": null,
      "outputs": []
    },
    {
      "cell_type": "code",
      "metadata": {
        "id": "nYU5t3w6sOMW"
      },
      "source": [
        "model_dnn_e100_rmsprop = Sequential()\n",
        "model_dnn_e100_rmsprop.add(Embedding(vocab_size, embedding_dim, input_length=input_length))\n",
        "model_dnn_e100_rmsprop.add(GlobalAveragePooling1D())\n",
        "model_dnn_e100_rmsprop.add(Dense(units=16, activation='relu'))\n",
        "model_dnn_e100_rmsprop.add(Dense(units=4, activation='relu'))\n",
        "model_dnn_e100_rmsprop.add(Dense(units=1, activation='sigmoid'))\n",
        "es = EarlyStopping(monitor='val_loss', mode='min', verbose=1, patience=7)\n",
        "mc = ModelCheckpoint('movie_game_matjip_e100_dnn_model_rmsprop.h1', monitor='val_acc', mode='max', verbose=1, save_best_only=True)\n",
        "model_dnn_e100_rmsprop.compile(optimizer='rmsprop', loss='binary_crossentropy', metrics=['acc'])\n",
        "history = model_dnn_e100_rmsprop.fit(X_train, y_train, epochs=15, callbacks=[es, mc], batch_size=64, validation_split=0.2)\n",
        "\n",
        "loaded_model = load_model('movie_game_matjip_e100_dnn_model_rmsprop.h1')\n",
        "print(\"\\n e100 rmsprop 맛집 테스트 정확도: %.4f\" % (loaded_model.evaluate(X_test, y_test)[1]))"
      ],
      "execution_count": null,
      "outputs": []
    },
    {
      "cell_type": "markdown",
      "metadata": {
        "id": "Qr4Bw9s71LQJ"
      },
      "source": [
        "###case2. embedding dimension = 75"
      ]
    },
    {
      "cell_type": "code",
      "metadata": {
        "id": "9ctzcZNFpqUJ"
      },
      "source": [
        "embedding_dim = 75\n",
        "\n",
        "model_dnn_e75_adam = Sequential()\n",
        "model_dnn_e75_adam.add(Embedding(vocab_size, embedding_dim, input_length=input_length))\n",
        "model_dnn_e75_adam.add(GlobalAveragePooling1D())\n",
        "model_dnn_e75_adam.add(Dense(units=16, activation='relu'))\n",
        "model_dnn_e75_adam.add(Dense(units=4, activation='relu'))\n",
        "model_dnn_e75_adam.add(Dense(units=1, activation='sigmoid'))\n",
        "es = EarlyStopping(monitor='val_loss', mode='min', verbose=1, patience=7)\n",
        "mc = ModelCheckpoint('movie_game_matjip_e75_dnn_model_adam.h1', monitor='val_acc', mode='max', verbose=1, save_best_only=True)\n",
        "model_dnn_e75_adam.compile(optimizer='adam', loss='binary_crossentropy', metrics=['acc'])\n",
        "history = model_dnn_e75_adam.fit(X_train, y_train, epochs=15, callbacks=[es, mc], batch_size=64, validation_split=0.2)\n",
        "\n",
        "\n",
        "loaded_model = load_model('movie_game_matjip_e75_dnn_model_adam.h1')\n",
        "print(\"\\n e75 adam 맛집 테스트 정확도: %.4f\" % (loaded_model.evaluate(X_test, y_test)[1]))"
      ],
      "execution_count": null,
      "outputs": []
    },
    {
      "cell_type": "code",
      "metadata": {
        "id": "eF7hrImZFOvo"
      },
      "source": [
        "model_dnn_e75_rmsprop = Sequential()\n",
        "model_dnn_e75_rmsprop.add(Embedding(vocab_size, embedding_dim, input_length=input_length))\n",
        "model_dnn_e75_rmsprop.add(GlobalAveragePooling1D())\n",
        "model_dnn_e75_rmsprop.add(Dense(units=16, activation='relu'))\n",
        "model_dnn_e75_rmsprop.add(Dense(units=4, activation='relu'))\n",
        "model_dnn_e75_rmsprop.add(Dense(units=1, activation='sigmoid'))\n",
        "es = EarlyStopping(monitor='val_loss', mode='min', verbose=1, patience=7)\n",
        "mc = ModelCheckpoint('movie_game_matjip_e75_dnn_model_rmsprop.h1', monitor='val_acc', mode='max', verbose=1, save_best_only=True)\n",
        "model_dnn_e75_rmsprop.compile(optimizer='rmsprop', loss='binary_crossentropy', metrics=['acc'])\n",
        "history = model_dnn_e75_rmsprop.fit(X_train, y_train, epochs=15, callbacks=[es, mc], batch_size=64, validation_split=0.2)\n",
        "\n",
        "\n",
        "loaded_model = load_model('movie_game_matjip_e75_dnn_model_rmsprop.h1')\n",
        "print(\"\\n e75 rmsprop 맛집 테스트 정확도: %.4f\" % (loaded_model.evaluate(X_test, y_test)[1]))"
      ],
      "execution_count": null,
      "outputs": []
    },
    {
      "cell_type": "markdown",
      "metadata": {
        "id": "u7jl9QSv1NVr"
      },
      "source": [
        "###case3. embedding dimension = 50"
      ]
    },
    {
      "cell_type": "code",
      "metadata": {
        "id": "C-uKG4olpqm1"
      },
      "source": [
        "embedding_dim = 50\n",
        "\n",
        "model_dnn_e50_adam = Sequential()\n",
        "model_dnn_e50_adam.add(Embedding(vocab_size, embedding_dim, input_length=input_length))\n",
        "model_dnn_e50_adam.add(GlobalAveragePooling1D())\n",
        "model_dnn_e50_adam.add(Dense(units=16, activation='relu'))\n",
        "model_dnn_e50_adam.add(Dense(units=4, activation='relu'))\n",
        "model_dnn_e50_adam.add(Dense(units=1, activation='sigmoid'))\n",
        "es = EarlyStopping(monitor='val_loss', mode='min', verbose=1, patience=7)\n",
        "mc = ModelCheckpoint('movie_game_matjip_e50_dnn_model_adam.h1', monitor='val_acc', mode='max', verbose=1, save_best_only=True)\n",
        "model_dnn_e50_adam.compile(optimizer='adam', loss='binary_crossentropy', metrics=['acc'])\n",
        "history = model_dnn_e50_adam.fit(X_train, y_train, epochs=15, callbacks=[es, mc], batch_size=64, validation_split=0.2)\n",
        "\n",
        "loaded_model = load_model('movie_game_matjip_e50_dnn_model_adam.h1')\n",
        "print(\"\\n e50 adam 맛집 테스트 정확도: %.4f\" % (loaded_model.evaluate(X_test, y_test)[1]))"
      ],
      "execution_count": null,
      "outputs": []
    },
    {
      "cell_type": "code",
      "metadata": {
        "id": "mC9GJemNsXjf"
      },
      "source": [
        "model_dnn_e50_rmsprop = Sequential()\n",
        "model_dnn_e50_rmsprop.add(Embedding(vocab_size, embedding_dim, input_length=input_length))\n",
        "model_dnn_e50_rmsprop.add(GlobalAveragePooling1D())\n",
        "model_dnn_e50_rmsprop.add(Dense(units=16, activation='relu'))\n",
        "model_dnn_e50_rmsprop.add(Dense(units=4, activation='relu'))\n",
        "model_dnn_e50_rmsprop.add(Dense(units=1, activation='sigmoid'))\n",
        "es = EarlyStopping(monitor='val_loss', mode='min', verbose=1, patience=7)\n",
        "mc = ModelCheckpoint('movie_game_matjip_e50_dnn_model_rmsprop.h1', monitor='val_acc', mode='max', verbose=1, save_best_only=True)\n",
        "model_dnn_e50_rmsprop.compile(optimizer='rmsprop', loss='binary_crossentropy', metrics=['acc'])\n",
        "history = model_dnn_e50_rmsprop.fit(X_train, y_train, epochs=15, callbacks=[es, mc], batch_size=64, validation_split=0.2)\n",
        "\n",
        "\n",
        "\n",
        "loaded_model = load_model('movie_game_matjip_e50_dnn_model_rmsprop.h1')\n",
        "print(\"\\n e50 rmsprop 맛집 테스트 정확도: %.4f\" % (loaded_model.evaluate(X_test, y_test)[1]))"
      ],
      "execution_count": null,
      "outputs": []
    },
    {
      "cell_type": "markdown",
      "metadata": {
        "id": "Lohjq6Ml1Sbh"
      },
      "source": [
        "##2.LSTM model"
      ]
    },
    {
      "cell_type": "markdown",
      "metadata": {
        "id": "DfQUByh3C6Ij"
      },
      "source": [
        "###Hidden state = 64"
      ]
    },
    {
      "cell_type": "code",
      "metadata": {
        "id": "3T6-Hh9HCX3g"
      },
      "source": [
        "embedding_dim = 100\n",
        "hidden_units = 64\n",
        "epoch = 5\n",
        "\n",
        "print(\"lstm model with adam optimizer\")\n",
        "lstm_model_adam = Sequential()\n",
        "lstm_model_adam.add(Embedding(vocab_size, embedding_dim))\n",
        "lstm_model_adam.add(LSTM(hidden_units))\n",
        "lstm_model_adam.add(Dense(1, activation='sigmoid'))\n",
        "\n",
        "lstm_model_adam.compile(optimizer='adam', loss='binary_crossentropy', metrics=['accuracy'])\n",
        "lstm_model_adam_history = lstm_model_adam.fit(X_train, y_train, epochs=epoch, batch_size=64, validation_split=0.2)\n",
        "\n",
        "lstm_model_adam.save('lstm_model_adam.h5')\n",
        "\n",
        "\n",
        "print(\"lstm model with rmsprop optimizer\")\n",
        "lstm_model_rmsprop = Sequential()\n",
        "lstm_model_rmsprop.add(Embedding(vocab_size, embedding_dim))\n",
        "lstm_model_rmsprop.add(LSTM(hidden_units))\n",
        "lstm_model_rmsprop.add(Dense(1, activation='sigmoid'))\n",
        "\n",
        "lstm_model_rmsprop.compile(optimizer='rmsprop', loss='binary_crossentropy', metrics=['accuracy'])\n",
        "lstm_model_rmsprop_history = lstm_model_rmsprop.fit(X_train, y_train, epochs=epoch, batch_size=64, validation_split=0.2)\n",
        "\n",
        "#saving\n",
        "lstm_model_rmsprop.save('lstm_model_rmsprop.h5')"
      ],
      "execution_count": null,
      "outputs": []
    },
    {
      "cell_type": "code",
      "metadata": {
        "id": "ZUriqp-jCut9"
      },
      "source": [
        "print(\"\\n LSTM Adam 맛집테스트 정확도 %.4f\" % (lstm_model_adam.evaluate(X_test, y_test)[1]))\n",
        "print(\"\\n LSTM RMSProp 맛집테스트 정확도: %.4f\" % (lstm_model_rmsprop.evaluate(X_test, y_test)[1]))"
      ],
      "execution_count": null,
      "outputs": []
    },
    {
      "cell_type": "markdown",
      "metadata": {
        "id": "ze2L3LFOC9vf"
      },
      "source": [
        "###Hidden state = 128"
      ]
    },
    {
      "cell_type": "code",
      "metadata": {
        "id": "vw_pLovtPlkk"
      },
      "source": [
        "embedding_dim = 100\n",
        "hidden_units = 128\n",
        "epoch = 5\n",
        "\n",
        "print(\"lstm model with adam optimizer\")\n",
        "lstm_model_adam2 = Sequential()\n",
        "lstm_model_adam2.add(Embedding(vocab_size, embedding_dim))\n",
        "lstm_model_adam2.add(LSTM(hidden_units))\n",
        "lstm_model_adam2.add(Dense(1, activation='sigmoid'))\n",
        "\n",
        "lstm_model_adam2.compile(optimizer='adam', loss='binary_crossentropy', metrics=['accuracy'])\n",
        "lstm_model_adam_history2 = lstm_model_adam2.fit(X_train, y_train, epochs=epoch, batch_size=64, validation_split=0.2)\n",
        "\n",
        "lstm_model_adam2.save('lstm_model_adam2.h5')\n",
        "\n",
        "\n",
        "print(\"lstm model with rmsprop optimizer\")\n",
        "lstm_model_rmsprop2 = Sequential()\n",
        "lstm_model_rmsprop2.add(Embedding(vocab_size, embedding_dim))\n",
        "lstm_model_rmsprop2.add(LSTM(hidden_units))\n",
        "lstm_model_rmsprop2.add(Dense(1, activation='sigmoid'))\n",
        "\n",
        "lstm_model_rmsprop2.compile(optimizer='rmsprop', loss='binary_crossentropy', metrics=['accuracy'])\n",
        "lstm_model_rmsprop_history2 = lstm_model_rmsprop2.fit(X_train, y_train, epochs=epoch, batch_size=64, validation_split=0.2)\n",
        "\n",
        "#saving\n",
        "lstm_model_rmsprop2.save('lstm_model_rmsprop2.h5')"
      ],
      "execution_count": null,
      "outputs": []
    },
    {
      "cell_type": "code",
      "metadata": {
        "id": "kKSk0C1rCxnQ"
      },
      "source": [
        "print(\"\\n LSTM Adam 맛집테스트 정확도 %.4f\" % (lstm_model_adam2.evaluate(X_test, y_test)[1]))\n",
        "print(\"\\n LSTM RMSProp 맛집테스트 정확도: %.4f\" % (lstm_model_rmsprop2.evaluate(X_test, y_test)[1]))"
      ],
      "execution_count": null,
      "outputs": []
    },
    {
      "cell_type": "markdown",
      "metadata": {
        "id": "_wc4YbKU1Uj8"
      },
      "source": [
        "##3.BiLSTM model"
      ]
    },
    {
      "cell_type": "markdown",
      "metadata": {
        "id": "jThjCrG7DRUH"
      },
      "source": [
        "###Hidden state = 64"
      ]
    },
    {
      "cell_type": "code",
      "metadata": {
        "id": "n935VvJxDW9N"
      },
      "source": [
        "embedding_dim = 100\n",
        "hidden_units = 64\n",
        "input_length = max_len\n",
        "\n",
        "model_bilstm_adam = Sequential()\n",
        "model_bilstm_adam.add(Embedding(vocab_size, embedding_dim))\n",
        "model_bilstm_adam.add(Bidirectional(LSTM(hidden_units)))\n",
        "model_bilstm_adam.add(Dense(1, activation='sigmoid'))\n",
        "es = EarlyStopping(monitor='val_loss', mode='min', verbose=1, patience=7)\n",
        "mc = ModelCheckpoint('movie_game_matjip_e100_h64_bilstm_model_adam.h1', monitor='val_acc', mode='max', verbose=1, save_best_only=True)\n",
        "\n",
        "model_bilstm_adam.compile(optimizer='adam', loss='binary_crossentropy', metrics=['acc'])\n",
        "history = model_bilstm_adam.fit(X_train, y_train, epochs=15, callbacks=[es, mc], batch_size=64, validation_split=0.2)"
      ],
      "execution_count": null,
      "outputs": []
    },
    {
      "cell_type": "code",
      "metadata": {
        "id": "JOuXLkQHDW17"
      },
      "source": [
        "loaded_model = load_model('movie_game_matjip_e100_h64_bilstm_model_adam.h1')\n",
        "print(\"\\n BiLSTM Adam 맛집 테스트 정확도: %.4f\" % (loaded_model.evaluate(X_test, y_test)[1]))"
      ],
      "execution_count": null,
      "outputs": []
    },
    {
      "cell_type": "code",
      "metadata": {
        "id": "TAloBL1IDWtO"
      },
      "source": [
        "model_bilstm_adam = Sequential()\n",
        "model_bilstm_adam.add(Embedding(vocab_size, embedding_dim))\n",
        "model_bilstm_adam.add(Bidirectional(LSTM(hidden_units)))\n",
        "model_bilstm_adam.add(Dense(1, activation='sigmoid'))\n",
        "es = EarlyStopping(monitor='val_loss', mode='min', verbose=1, patience=7)\n",
        "mc = ModelCheckpoint('movie_game_matjip_e100_h64_bilstm_model_rmsprop.h1', monitor='val_acc', mode='max', verbose=1, save_best_only=True)\n",
        "\n",
        "model_bilstm_adam.compile(optimizer='rmsprop', loss='binary_crossentropy', metrics=['acc'])\n",
        "history = model_bilstm_adam.fit(X_train, y_train, epochs=15, callbacks=[es, mc], batch_size=64, validation_split=0.2)"
      ],
      "execution_count": null,
      "outputs": []
    },
    {
      "cell_type": "code",
      "metadata": {
        "id": "GKwP2t5oDWku"
      },
      "source": [
        "loaded_model = load_model('movie_game_matjip_e100_h64_bilstm_model_rmsprop.h1')\n",
        "print(\"\\n BiLSTM RMSProp 맛집 테스트 정확도: %.4f\" % (loaded_model.evaluate(X_test, y_test)[1]))"
      ],
      "execution_count": null,
      "outputs": []
    },
    {
      "cell_type": "markdown",
      "metadata": {
        "id": "szRWedX3DHib"
      },
      "source": [
        "###Hidden state = 128"
      ]
    },
    {
      "cell_type": "code",
      "metadata": {
        "id": "rEOJxZeG5JTa"
      },
      "source": [
        "embedding_dim = 100\n",
        "hidden_units = 128\n",
        "input_length = max_len\n",
        "\n",
        "model_bilstm_adam = Sequential()\n",
        "model_bilstm_adam.add(Embedding(vocab_size, embedding_dim))\n",
        "model_bilstm_adam.add(Bidirectional(LSTM(hidden_units)))\n",
        "model_bilstm_adam.add(Dense(1, activation='sigmoid'))\n",
        "es = EarlyStopping(monitor='val_loss', mode='min', verbose=1, patience=7)\n",
        "mc = ModelCheckpoint('movie_game_matjip_e100_h128_bilstm_model_adam.h1', monitor='val_acc', mode='max', verbose=1, save_best_only=True)\n",
        "\n",
        "model_bilstm_adam.compile(optimizer='adam', loss='binary_crossentropy', metrics=['acc'])\n",
        "history = model_bilstm_adam.fit(X_train, y_train, epochs=15, callbacks=[es, mc], batch_size=64, validation_split=0.2)"
      ],
      "execution_count": null,
      "outputs": []
    },
    {
      "cell_type": "code",
      "metadata": {
        "id": "481zlSJh54gm"
      },
      "source": [
        "loaded_model = load_model('movie_game_matjip_e100_h128_bilstm_model_adam.h1')\n",
        "print(\"\\n BiLSTM Adam 맛집 테스트 정확도: %.4f\" % (loaded_model.evaluate(X_test, y_test)[1]))"
      ],
      "execution_count": null,
      "outputs": []
    },
    {
      "cell_type": "code",
      "metadata": {
        "id": "MzYDqcaz567j"
      },
      "source": [
        "model_bilstm_adam = Sequential()\n",
        "model_bilstm_adam.add(Embedding(vocab_size, embedding_dim))\n",
        "model_bilstm_adam.add(Bidirectional(LSTM(hidden_units)))\n",
        "model_bilstm_adam.add(Dense(1, activation='sigmoid'))\n",
        "es = EarlyStopping(monitor='val_loss', mode='min', verbose=1, patience=7)\n",
        "mc = ModelCheckpoint('movie_game_matjip_e100_h128_bilstm_model_rmsprop.h1', monitor='val_acc', mode='max', verbose=1, save_best_only=True)\n",
        "\n",
        "model_bilstm_adam.compile(optimizer='rmsprop', loss='binary_crossentropy', metrics=['acc'])\n",
        "history = model_bilstm_adam.fit(X_train, y_train, epochs=15, callbacks=[es, mc], batch_size=64, validation_split=0.2)"
      ],
      "execution_count": null,
      "outputs": []
    },
    {
      "cell_type": "code",
      "metadata": {
        "id": "f6A8rUy_59D2"
      },
      "source": [
        "loaded_model = load_model('movie_game_matjip_e100_h128_bilstm_model_rmsprop.h1')\n",
        "print(\"\\n BiLSTM RMSProp 맛집 테스트 정확도: %.4f\" % (loaded_model.evaluate(X_test, y_test)[1]))"
      ],
      "execution_count": null,
      "outputs": []
    },
    {
      "cell_type": "markdown",
      "metadata": {
        "id": "TbSd1azUDUIB"
      },
      "source": [
        "###Hidden state = 256"
      ]
    },
    {
      "cell_type": "code",
      "metadata": {
        "id": "0S91i0HyDX6q"
      },
      "source": [
        "embedding_dim = 100\n",
        "hidden_units = 256\n",
        "input_length = max_len\n",
        "\n",
        "model_bilstm_adam = Sequential()\n",
        "model_bilstm_adam.add(Embedding(vocab_size, embedding_dim))\n",
        "model_bilstm_adam.add(Bidirectional(LSTM(hidden_units)))\n",
        "model_bilstm_adam.add(Dense(1, activation='sigmoid'))\n",
        "es = EarlyStopping(monitor='val_loss', mode='min', verbose=1, patience=7)\n",
        "mc = ModelCheckpoint('movie_game_matjip_e100_h256_bilstm_model_adam.h1', monitor='val_acc', mode='max', verbose=1, save_best_only=True)\n",
        "\n",
        "model_bilstm_adam.compile(optimizer='adam', loss='binary_crossentropy', metrics=['acc'])\n",
        "history = model_bilstm_adam.fit(X_train, y_train, epochs=15, callbacks=[es, mc], batch_size=64, validation_split=0.2)"
      ],
      "execution_count": null,
      "outputs": []
    },
    {
      "cell_type": "code",
      "metadata": {
        "id": "qams8fE1DX0H"
      },
      "source": [
        "loaded_model = load_model('movie_game_matjip_e100_h256_bilstm_model_adam.h1')\n",
        "print(\"\\n BiLSTM Adam 맛집 테스트 정확도: %.4f\" % (loaded_model.evaluate(X_test, y_test)[1]))"
      ],
      "execution_count": null,
      "outputs": []
    },
    {
      "cell_type": "code",
      "metadata": {
        "id": "1y2PpimnDXs7"
      },
      "source": [
        "model_bilstm_adam = Sequential()\n",
        "model_bilstm_adam.add(Embedding(vocab_size, embedding_dim))\n",
        "model_bilstm_adam.add(Bidirectional(LSTM(hidden_units)))\n",
        "model_bilstm_adam.add(Dense(1, activation='sigmoid'))\n",
        "es = EarlyStopping(monitor='val_loss', mode='min', verbose=1, patience=7)\n",
        "mc = ModelCheckpoint('movie_game_matjip_e100_h256_bilstm_model_rmsprop.h1', monitor='val_acc', mode='max', verbose=1, save_best_only=True)\n",
        "\n",
        "model_bilstm_adam.compile(optimizer='rmsprop', loss='binary_crossentropy', metrics=['acc'])\n",
        "history = model_bilstm_adam.fit(X_train, y_train, epochs=15, callbacks=[es, mc], batch_size=64, validation_split=0.2)"
      ],
      "execution_count": null,
      "outputs": []
    },
    {
      "cell_type": "code",
      "metadata": {
        "id": "iGLN6i_HDXls"
      },
      "source": [
        "loaded_model = load_model('movie_game_matjip_e100_h256_bilstm_model_rmsprop.h1')\n",
        "print(\"\\n BiLSTM RMSProp 맛집 테스트 정확도: %.4f\" % (loaded_model.evaluate(X_test, y_test)[1]))"
      ],
      "execution_count": null,
      "outputs": []
    }
  ]
}