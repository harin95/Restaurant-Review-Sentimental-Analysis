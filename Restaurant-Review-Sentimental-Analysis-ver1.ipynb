{
  "nbformat": 4,
  "nbformat_minor": 0,
  "metadata": {
    "colab": {
      "name": "정보검색 팀 프로젝트 - 영화, 게임 리뷰데이터 학습을 통한 맛집 리뷰 예측.ipynb",
      "provenance": [],
      "collapsed_sections": [],
      "toc_visible": true
    },
    "kernelspec": {
      "name": "python3",
      "display_name": "Python 3"
    },
    "language_info": {
      "name": "python"
    }
  },
  "cells": [
    {
      "cell_type": "code",
      "metadata": {
        "id": "906kLkdq-KlV"
      },
      "source": [
        "pip install konlpy"
      ],
      "execution_count": null,
      "outputs": []
    },
    {
      "cell_type": "code",
      "metadata": {
        "id": "BC4NCWXN966J"
      },
      "source": [
        "import pandas as pd\n",
        "from tqdm import tqdm\n",
        "from tensorflow.keras.models import load_model\n",
        "import re\n",
        "from tensorflow.keras.preprocessing.text import Tokenizer\n",
        "from konlpy.tag import Okt\n",
        "from tensorflow.keras.preprocessing.sequence import pad_sequences\n",
        "import numpy as np\n",
        "import pickle\n",
        "from tensorflow.keras.layers import Embedding, Dense, LSTM, Bidirectional, GlobalAveragePooling1D\n",
        "from tensorflow.keras.models import Sequential\n",
        "from tensorflow.keras.callbacks import EarlyStopping, ModelCheckpoint\n",
        "from tensorflow.python.client import device_lib\n",
        "from imblearn.over_sampling import SMOTE\n",
        "import warnings\n",
        "warnings.filterwarnings(\"ignore\", category=np.VisibleDeprecationWarning)"
      ],
      "execution_count": 87,
      "outputs": []
    },
    {
      "cell_type": "markdown",
      "metadata": {
        "id": "djtSHYh9-Wb3"
      },
      "source": [
        "#데이터 전처리"
      ]
    },
    {
      "cell_type": "markdown",
      "metadata": {
        "id": "iLjw3wMK1w1-"
      },
      "source": [
        "##영화 + 스팀 게임 리뷰 / 테스트 데이터"
      ]
    },
    {
      "cell_type": "code",
      "metadata": {
        "colab": {
          "base_uri": "https://localhost:8080/"
        },
        "id": "scol1WeWbH5O",
        "outputId": "1fa7541c-24eb-4e80-e430-4b022a9ab74d"
      },
      "source": [
        "steam_movie_train = pd.read_table('steam_movie_train.txt')\n",
        "steam_movie_test = pd.read_table('steam_movie_test.txt')\n",
        "test_data = pd.read_table('test_sample_0or1.txt')\n",
        "\n",
        "print(\"train len: \", len(steam_movie_train))\n",
        "print(\"test len: \", len(steam_movie_test))\n",
        "print(\"test data len: \", len(test_data))"
      ],
      "execution_count": 131,
      "outputs": [
        {
          "output_type": "stream",
          "name": "stdout",
          "text": [
            "train len:  225000\n",
            "test len:  75000\n",
            "test data len:  9284\n"
          ]
        }
      ]
    },
    {
      "cell_type": "code",
      "metadata": {
        "colab": {
          "base_uri": "https://localhost:8080/"
        },
        "id": "nrFTAraF-OqC",
        "outputId": "856d0c38-54eb-452e-a01e-62a85cd63244"
      },
      "source": [
        "okt = Okt()\n",
        "print('-'*20, \"train data pre-processing...\", '-'*20)\n",
        "\n",
        "steam_movie_train.drop_duplicates(subset=['document'], inplace=True)    # document 열에서 중복인 내용이 있다면 중복 제거\n",
        "steam_movie_train = steam_movie_train.dropna(how = 'any')   # Null 값이 존재하는 행 제거\n",
        "steam_movie_train['document'] = steam_movie_train['document'].str.replace(\"[^ㄱ-ㅎㅏ-ㅣ가-힣 ]\",\"\")   # 한글과 공백을 제외하고 모두 제거\n",
        "steam_movie_train['document'] = steam_movie_train['document'].str.replace('^ +', \"\")    # white space 데이터를 empty value로 변경\n",
        "steam_movie_train['document'].replace('', np.nan, inplace=True)\n",
        "steam_movie_train = steam_movie_train.dropna(how = 'any')\n",
        "\n",
        "print(\"Any null value in train data: \", steam_movie_train.isnull().values.any())\n",
        "print(\"train len after pre-processing: \", len(steam_movie_train))\n",
        "\n",
        "\n",
        "print('-'*20, \"train data tokenizing...\", '-'*20)\n",
        "\n",
        "stopwords = ['의','가','이','은','들','는','좀','잘','걍','과','도','를','으로','자','에','와','한','하다']\n",
        "\n",
        "X_train = []\n",
        "for sentence in tqdm(steam_movie_train['document']):\n",
        "    tokenized_sentence = okt.morphs(sentence, stem=True) #토큰화\n",
        "    stopwords_removed_sentence = [word for word in tokenized_sentence if not word in stopwords] #불용어 제거\n",
        "    X_train.append(stopwords_removed_sentence)\n",
        "\n",
        "x_train = X_train\n",
        "\n",
        "with open('x_train.pkl', 'wb') as f:    #리스트 저장\n",
        "    pickle.dump(x_train, f)\n",
        "\n",
        "# with open('x_train.pkl', 'rb') as f:    #저장한 리스트 로드해서 사용\n",
        "#     x_train = pickle.load(f)\n",
        "\n",
        "tokenizer = Tokenizer()\n",
        "tokenizer.fit_on_texts(x_train)\n",
        "\n",
        "print('-'*20, \"test data pre-processing...\", '-'*20)\n",
        "\n",
        "steam_movie_test.drop_duplicates(subset = ['document'], inplace=True)\n",
        "steam_movie_test['document'] = steam_movie_test['document'].str.replace(\"[^ㄱ-ㅎㅏ-ㅣ가-힣 ]\",\"\")\n",
        "steam_movie_test['document'] = steam_movie_test['document'].str.replace('^ +', \"\") \n",
        "steam_movie_test['document'].replace('', np.nan, inplace=True) \n",
        "\n",
        "steam_movie_test = steam_movie_test.dropna(how='any') \n",
        "print(\"Any null value in test data: \", steam_movie_test.isnull().values.any())\n",
        "print('test len after pre-processing:',len(steam_movie_test))\n",
        "\n",
        "\n",
        "print('-'*20, \"test data tokenizing...\", '-'*20)\n",
        "\n",
        "X_test = []\n",
        "for sentence in tqdm(steam_movie_test['document']):\n",
        "    tokenized_sentence = okt.morphs(sentence, stem=True)\n",
        "    stopwords_removed_sentence = [word for word in tokenized_sentence if not word in stopwords]\n",
        "    X_test.append(stopwords_removed_sentence)\n",
        "\n",
        "x_test = X_test\n",
        "\n",
        "with open('x_test.pkl', 'wb') as f:\n",
        "    pickle.dump(x_test, f)\n",
        "\n",
        "# with open('x_test.pkl', 'rb') as f:\n",
        "#     x_test = pickle.load(f)\n",
        "\n",
        "print('-'*20, \"review test data pre-processing...\", '-'*20)\n",
        "test_data.drop_duplicates(subset = ['document'], inplace=True)\n",
        "test_data['document'] = test_data['document'].str.replace(\"[^ㄱ-ㅎㅏ-ㅣ가-힣 ]\",\"\")\n",
        "test_data['document'] = test_data['document'].str.replace('^ +', \"\") \n",
        "test_data['document'].replace('', np.nan, inplace=True)\n",
        "test_data = test_data.dropna(how='any')\n",
        "\n",
        "print(\"Any null value in review test data: \", test_data.isnull().values.any())\n",
        "print('test len after pre-processing:',len(test_data))\n",
        "\n",
        "print('-'*20, \"review test data tokenizing...\", '-'*20)\n",
        "review_test = []\n",
        "for sentence in tqdm(test_data['document']):\n",
        "    tokenized_sentence = okt.morphs(sentence, stem=True)\n",
        "    stopwords_removed_sentence = [word for word in tokenized_sentence if not word in stopwords]\n",
        "    review_test.append(stopwords_removed_sentence)\n",
        "\n",
        "with open('review_test.pkl', 'wb') as f:\n",
        "    pickle.dump(review_test, f)\n",
        "\n",
        "# with open('review_test.pkl', 'rb') as f:\n",
        "#     review_test = pickle.load(f)\n",
        "\n",
        "print('-'*20, \"loading saved list data...\", '-'*20)\n",
        "print(\"x_train len: \", len(x_train))\n",
        "print(\"x_test len: \", len(x_test))\n",
        "print(\"review test: \", len(review_test))\n",
        "\n",
        "\n",
        "threshold = 3\n",
        "total_cnt = len(tokenizer.word_index)   # 단어의 수\n",
        "rare_cnt = 0    # 등장 빈도수가 threshold보다 작은 단어의 개수를 카운트\n",
        "total_freq = 0  # 훈련 데이터의 전체 단어 빈도수 총 합\n",
        "rare_freq = 0   # 등장 빈도수가 threshold보다 작은 단어의 등장 빈도수의 총 합\n",
        "\n",
        "# 단어와 빈도수의 쌍(pair)을 key와 value로 받는다.\n",
        "for key, value in tokenizer.word_counts.items():\n",
        "\n",
        "    # 단어의 등장 빈도수가 threshold 보다 작으면\n",
        "    if value < threshold:\n",
        "        rare_cnt = rare_cnt + 1\n",
        "        rare_freq = rare_freq + value\n",
        "\n",
        "vocab_size = total_cnt - rare_cnt + 1\n",
        "\n",
        "tokenizer = Tokenizer(vocab_size) # 빈도수 2 이하인 단어는 제거\n",
        "tokenizer.fit_on_texts(x_train)\n",
        "\n",
        "print('-'*20, \"text to sequences...\", '-'*20)\n",
        "x_train = tokenizer.texts_to_sequences(x_train)\n",
        "x_test = tokenizer.texts_to_sequences(x_test)\n",
        "review_test = tokenizer.texts_to_sequences(review_test)\n",
        "\n",
        "y_train = np.array(steam_movie_train['label'])\n",
        "y_test = np.array(steam_movie_test['label'])\n",
        "review_label = np.array(test_data['label']) \n",
        "\n",
        "drop_train = [index for index, sentence in enumerate(x_train) if len(sentence) < 1]\n",
        "drop_test = [index for index, sentence in enumerate(x_test) if len(sentence) < 1]\n",
        "\n",
        "x_train = np.delete(x_train, drop_train, axis=0)\n",
        "y_train = np.delete(y_train, drop_train, axis=0)\n",
        "\n",
        "x_test = np.delete(x_test, drop_test, axis=0)\n",
        "y_test = np.delete(y_test, drop_test, axis=0)\n",
        "\n",
        "max_len = 30\n",
        "\n",
        "x_train = pad_sequences(x_train, maxlen = max_len)\n",
        "x_test = pad_sequences(x_test, maxlen = max_len)\n",
        "review_test = pad_sequences(review_test, maxlen = max_len)\n",
        "\n",
        "print('-'*20, \"all pre-processing done\", '-'*20)\n",
        "\n",
        "print(\"x train: \", len(x_train))\n",
        "print(\"y train: \", len(y_train))\n",
        "print(\"x test: \", len(x_test))\n",
        "print(\"y test: \", len(y_test))\n",
        "print(\"review test: \", len(review_test))\n",
        "print(\"review label: \", len(review_label))"
      ],
      "execution_count": null,
      "outputs": [
        {
          "output_type": "stream",
          "name": "stdout",
          "text": [
            "-------------------- train data pre-processing... --------------------\n",
            "Any null value in train data:  False\n",
            "train len after pre-processing:  217732\n",
            "-------------------- train data tokenizing... --------------------\n"
          ]
        },
        {
          "output_type": "stream",
          "name": "stderr",
          "text": [
            "100%|██████████| 217732/217732 [24:20<00:00, 149.09it/s]\n"
          ]
        },
        {
          "output_type": "stream",
          "name": "stdout",
          "text": [
            "-------------------- test data pre-processing... --------------------\n",
            "Any null value in test data:  False\n",
            "test len after pre-processing: 73238\n",
            "-------------------- test data tokenizing... --------------------\n"
          ]
        },
        {
          "output_type": "stream",
          "name": "stderr",
          "text": [
            " 66%|██████▌   | 48124/73238 [06:08<02:38, 158.06it/s]"
          ]
        }
      ]
    },
    {
      "cell_type": "markdown",
      "metadata": {
        "id": "EO3D3-Q02A90"
      },
      "source": [
        "#데이터 학습 및 성능 평가"
      ]
    },
    {
      "cell_type": "markdown",
      "metadata": {
        "id": "AMhM_kvBCpUx"
      },
      "source": [
        "##1.DNN Model"
      ]
    },
    {
      "cell_type": "markdown",
      "metadata": {
        "id": "KUusj7p8Kwo0"
      },
      "source": [
        "####- case 1. embedding demension = 100"
      ]
    },
    {
      "cell_type": "code",
      "metadata": {
        "colab": {
          "base_uri": "https://localhost:8080/"
        },
        "id": "RAH0wF2oEW7Q",
        "outputId": "0bf7f20a-46e1-4622-c075-70a1761b1593"
      },
      "source": [
        "max_len = 30\n",
        "input_length = max_len\n",
        "\n",
        "embedding_dim = 100\n",
        "model_dnn_e100_adam = Sequential()\n",
        "model_dnn_e100_adam.add(Embedding(vocab_size, embedding_dim, input_length=input_length))\n",
        "model_dnn_e100_adam.add(GlobalAveragePooling1D())\n",
        "model_dnn_e100_adam.add(Dense(units=16, activation='relu'))\n",
        "model_dnn_e100_adam.add(Dense(units=4, activation='relu'))\n",
        "model_dnn_e100_adam.add(Dense(units=1, activation='sigmoid'))\n",
        "es = EarlyStopping(monitor='val_loss', mode='min', verbose=1, patience=7)\n",
        "mc = ModelCheckpoint('movie_game_e100_dnn_model_adam.h1', monitor='val_acc', mode='max', verbose=1, save_best_only=True)\n",
        "model_dnn_e100_adam.compile(optimizer='adam', loss='binary_crossentropy', metrics=['acc'])\n",
        "history = model_dnn_e100_adam.fit(x_train, y_train, epochs=15, callbacks=[es, mc], batch_size=64, validation_split=0.2)"
      ],
      "execution_count": 23,
      "outputs": [
        {
          "output_type": "stream",
          "name": "stdout",
          "text": [
            "Epoch 1/15\n",
            "2744/2745 [============================>.] - ETA: 0s - loss: 0.4232 - acc: 0.8044\n",
            "Epoch 00001: val_acc improved from -inf to 0.75736, saving model to movie_game_e100_dnn_model_adam.h1\n",
            "INFO:tensorflow:Assets written to: movie_game_e100_dnn_model_adam.h1/assets\n",
            "2745/2745 [==============================] - 92s 33ms/step - loss: 0.4232 - acc: 0.8044 - val_loss: 0.5028 - val_acc: 0.7574\n",
            "Epoch 2/15\n",
            "2744/2745 [============================>.] - ETA: 0s - loss: 0.3557 - acc: 0.8416\n",
            "Epoch 00002: val_acc improved from 0.75736 to 0.75777, saving model to movie_game_e100_dnn_model_adam.h1\n",
            "INFO:tensorflow:Assets written to: movie_game_e100_dnn_model_adam.h1/assets\n",
            "2745/2745 [==============================] - 89s 33ms/step - loss: 0.3557 - acc: 0.8416 - val_loss: 0.5046 - val_acc: 0.7578\n",
            "Epoch 3/15\n",
            "2744/2745 [============================>.] - ETA: 0s - loss: 0.3290 - acc: 0.8541\n",
            "Epoch 00003: val_acc did not improve from 0.75777\n",
            "2745/2745 [==============================] - 88s 32ms/step - loss: 0.3290 - acc: 0.8542 - val_loss: 0.5293 - val_acc: 0.7513\n",
            "Epoch 4/15\n",
            "2744/2745 [============================>.] - ETA: 0s - loss: 0.3052 - acc: 0.8645\n",
            "Epoch 00004: val_acc did not improve from 0.75777\n",
            "2745/2745 [==============================] - 89s 32ms/step - loss: 0.3052 - acc: 0.8645 - val_loss: 0.5466 - val_acc: 0.7516\n",
            "Epoch 5/15\n",
            "2745/2745 [==============================] - ETA: 0s - loss: 0.2842 - acc: 0.8757\n",
            "Epoch 00005: val_acc did not improve from 0.75777\n",
            "2745/2745 [==============================] - 88s 32ms/step - loss: 0.2842 - acc: 0.8757 - val_loss: 0.5854 - val_acc: 0.7431\n",
            "Epoch 6/15\n",
            "2745/2745 [==============================] - ETA: 0s - loss: 0.2643 - acc: 0.8852\n",
            "Epoch 00006: val_acc did not improve from 0.75777\n",
            "2745/2745 [==============================] - 88s 32ms/step - loss: 0.2643 - acc: 0.8852 - val_loss: 0.6274 - val_acc: 0.7406\n",
            "Epoch 7/15\n",
            "2744/2745 [============================>.] - ETA: 0s - loss: 0.2456 - acc: 0.8949\n",
            "Epoch 00007: val_acc did not improve from 0.75777\n",
            "2745/2745 [==============================] - 87s 32ms/step - loss: 0.2456 - acc: 0.8948 - val_loss: 0.6725 - val_acc: 0.7366\n",
            "Epoch 8/15\n",
            "2745/2745 [==============================] - ETA: 0s - loss: 0.2277 - acc: 0.9041\n",
            "Epoch 00008: val_acc did not improve from 0.75777\n",
            "2745/2745 [==============================] - 87s 32ms/step - loss: 0.2277 - acc: 0.9041 - val_loss: 0.7325 - val_acc: 0.7337\n",
            "Epoch 00008: early stopping\n"
          ]
        }
      ]
    },
    {
      "cell_type": "code",
      "metadata": {
        "colab": {
          "base_uri": "https://localhost:8080/"
        },
        "id": "BLKvzZfCEsLU",
        "outputId": "c4cf360b-da47-412e-a878-4d03927d36ab"
      },
      "source": [
        "loaded_model = load_model('movie_game_e100_dnn_model_adam.h1')\n",
        "print(\"\\n DNN e100 adam 게임 영화 테스트 정확도: %.4f\" % (loaded_model.evaluate(x_test, y_test)[1]))\n",
        "print(\"\\n DNN e100 adam 맛집 테스트 정확도: %.4f\" % (loaded_model.evaluate(review_test, review_label)[1]))"
      ],
      "execution_count": 32,
      "outputs": [
        {
          "output_type": "stream",
          "name": "stdout",
          "text": [
            "2301/2301 [==============================] - 4s 2ms/step - loss: 0.4122 - acc: 0.8104\n",
            "\n",
            " DNN e100 adam 게임 영화 테스트 정확도: 0.8104\n",
            "273/273 [==============================] - 0s 2ms/step - loss: 0.3404 - acc: 0.8599\n",
            "\n",
            " DNN e100 adam 맛집 테스트 정확도: 0.8599\n"
          ]
        }
      ]
    },
    {
      "cell_type": "code",
      "metadata": {
        "id": "3vWPL3XQKG9z",
        "colab": {
          "base_uri": "https://localhost:8080/"
        },
        "outputId": "5dd7fcb5-cf21-4e11-8ac4-cda82a18136a"
      },
      "source": [
        "model_dnn_e100_rmsprop = Sequential()\n",
        "model_dnn_e100_rmsprop.add(Embedding(vocab_size, embedding_dim, input_length=input_length))\n",
        "model_dnn_e100_rmsprop.add(GlobalAveragePooling1D())\n",
        "model_dnn_e100_rmsprop.add(Dense(units=16, activation='relu'))\n",
        "model_dnn_e100_rmsprop.add(Dense(units=4, activation='relu'))\n",
        "model_dnn_e100_rmsprop.add(Dense(units=1, activation='sigmoid'))\n",
        "es = EarlyStopping(monitor='val_loss', mode='min', verbose=1, patience=7)\n",
        "mc = ModelCheckpoint('movie_game_e100_dnn_model_rmsprop.h1', monitor='val_acc', mode='max', verbose=1, save_best_only=True)\n",
        "model_dnn_e100_rmsprop.compile(optimizer='rmsprop', loss='binary_crossentropy', metrics=['acc'])\n",
        "history = model_dnn_e100_rmsprop.fit(x_train, y_train, epochs=15, callbacks=[es, mc], batch_size=64, validation_split=0.2)"
      ],
      "execution_count": 31,
      "outputs": [
        {
          "output_type": "stream",
          "name": "stdout",
          "text": [
            "Epoch 1/15\n",
            "2743/2745 [============================>.] - ETA: 0s - loss: 0.4407 - acc: 0.7971\n",
            "Epoch 00001: val_acc improved from -inf to 0.75133, saving model to movie_game_e100_dnn_model_rmsprop.h1\n",
            "INFO:tensorflow:Assets written to: movie_game_e100_dnn_model_rmsprop.h1/assets\n",
            "2745/2745 [==============================] - 44s 16ms/step - loss: 0.4407 - acc: 0.7971 - val_loss: 0.5147 - val_acc: 0.7513\n",
            "Epoch 2/15\n",
            "2742/2745 [============================>.] - ETA: 0s - loss: 0.3872 - acc: 0.8275\n",
            "Epoch 00002: val_acc improved from 0.75133 to 0.75722, saving model to movie_game_e100_dnn_model_rmsprop.h1\n",
            "INFO:tensorflow:Assets written to: movie_game_e100_dnn_model_rmsprop.h1/assets\n",
            "2745/2745 [==============================] - 36s 13ms/step - loss: 0.3872 - acc: 0.8275 - val_loss: 0.5063 - val_acc: 0.7572\n",
            "Epoch 3/15\n",
            "2743/2745 [============================>.] - ETA: 0s - loss: 0.3795 - acc: 0.8319\n",
            "Epoch 00003: val_acc improved from 0.75722 to 0.75836, saving model to movie_game_e100_dnn_model_rmsprop.h1\n",
            "INFO:tensorflow:Assets written to: movie_game_e100_dnn_model_rmsprop.h1/assets\n",
            "2745/2745 [==============================] - 36s 13ms/step - loss: 0.3795 - acc: 0.8319 - val_loss: 0.5049 - val_acc: 0.7584\n",
            "Epoch 4/15\n",
            "2744/2745 [============================>.] - ETA: 0s - loss: 0.3753 - acc: 0.8338\n",
            "Epoch 00004: val_acc did not improve from 0.75836\n",
            "2745/2745 [==============================] - 35s 13ms/step - loss: 0.3753 - acc: 0.8338 - val_loss: 0.5389 - val_acc: 0.7393\n",
            "Epoch 5/15\n",
            "2745/2745 [==============================] - ETA: 0s - loss: 0.3722 - acc: 0.8356\n",
            "Epoch 00005: val_acc did not improve from 0.75836\n",
            "2745/2745 [==============================] - 35s 13ms/step - loss: 0.3722 - acc: 0.8356 - val_loss: 0.5255 - val_acc: 0.7471\n",
            "Epoch 6/15\n",
            "2744/2745 [============================>.] - ETA: 0s - loss: 0.3696 - acc: 0.8365\n",
            "Epoch 00006: val_acc did not improve from 0.75836\n",
            "2745/2745 [==============================] - 35s 13ms/step - loss: 0.3696 - acc: 0.8365 - val_loss: 0.5085 - val_acc: 0.7565\n",
            "Epoch 7/15\n",
            "2743/2745 [============================>.] - ETA: 0s - loss: 0.3669 - acc: 0.8377\n",
            "Epoch 00007: val_acc did not improve from 0.75836\n",
            "2745/2745 [==============================] - 35s 13ms/step - loss: 0.3670 - acc: 0.8377 - val_loss: 0.5154 - val_acc: 0.7546\n",
            "Epoch 8/15\n",
            "2744/2745 [============================>.] - ETA: 0s - loss: 0.3642 - acc: 0.8403\n",
            "Epoch 00008: val_acc did not improve from 0.75836\n",
            "2745/2745 [==============================] - 35s 13ms/step - loss: 0.3642 - acc: 0.8403 - val_loss: 0.5171 - val_acc: 0.7523\n",
            "Epoch 9/15\n",
            "2745/2745 [==============================] - ETA: 0s - loss: 0.3615 - acc: 0.8416\n",
            "Epoch 00009: val_acc did not improve from 0.75836\n",
            "2745/2745 [==============================] - 35s 13ms/step - loss: 0.3615 - acc: 0.8416 - val_loss: 0.5228 - val_acc: 0.7496\n",
            "Epoch 10/15\n",
            "2745/2745 [==============================] - ETA: 0s - loss: 0.3585 - acc: 0.8441\n",
            "Epoch 00010: val_acc did not improve from 0.75836\n",
            "2745/2745 [==============================] - 36s 13ms/step - loss: 0.3585 - acc: 0.8441 - val_loss: 0.5135 - val_acc: 0.7512\n",
            "Epoch 00010: early stopping\n"
          ]
        }
      ]
    },
    {
      "cell_type": "code",
      "metadata": {
        "id": "sLbRvkEoKbx5",
        "colab": {
          "base_uri": "https://localhost:8080/"
        },
        "outputId": "d2dd36bf-9a55-48ac-a1c4-0f9c87f1c225"
      },
      "source": [
        "loaded_model = load_model('movie_game_e100_dnn_model_rmsprop.h1')\n",
        "print(\"\\n DNN e100 rmsprop 게임 영화 테스트 정확도: %.4f\" % (loaded_model.evaluate(x_test, y_test)[1]))\n",
        "print(\"\\n DNN e100 rmsprop 맛집 테스트 정확도: %.4f\" % (loaded_model.evaluate(review_test, review_label)[1]))"
      ],
      "execution_count": 33,
      "outputs": [
        {
          "output_type": "stream",
          "name": "stdout",
          "text": [
            "2301/2301 [==============================] - 4s 2ms/step - loss: 0.4202 - acc: 0.8080\n",
            "\n",
            " DNN e100 rmsprop 게임 영화 테스트 정확도: 0.8080\n",
            "273/273 [==============================] - 0s 2ms/step - loss: 0.3365 - acc: 0.8800\n",
            "\n",
            " DNN e100 rmsprop 맛집 테스트 정확도: 0.8800\n"
          ]
        }
      ]
    },
    {
      "cell_type": "markdown",
      "metadata": {
        "id": "k85BhHEPK55k"
      },
      "source": [
        "####- case 2. embedding demension = 75"
      ]
    },
    {
      "cell_type": "code",
      "metadata": {
        "id": "E75swQe_KcVC",
        "colab": {
          "base_uri": "https://localhost:8080/"
        },
        "outputId": "b6726dd1-b8f1-46fb-9d0c-7245df84ef68"
      },
      "source": [
        "embedding_dim = 75\n",
        "\n",
        "model_dnn_e75_adam = Sequential()\n",
        "model_dnn_e75_adam.add(Embedding(vocab_size, embedding_dim, input_length=input_length))\n",
        "model_dnn_e75_adam.add(GlobalAveragePooling1D())\n",
        "model_dnn_e75_adam.add(Dense(units=16, activation='relu'))\n",
        "model_dnn_e75_adam.add(Dense(units=4, activation='relu'))\n",
        "model_dnn_e75_adam.add(Dense(units=1, activation='sigmoid'))\n",
        "es = EarlyStopping(monitor='val_loss', mode='min', verbose=1, patience=7)\n",
        "mc = ModelCheckpoint('movie_game_e75_dnn_model_adam.h1', monitor='val_acc', mode='max', verbose=1, save_best_only=True)\n",
        "model_dnn_e75_adam.compile(optimizer='adam', loss='binary_crossentropy', metrics=['acc'])\n",
        "history = model_dnn_e75_adam.fit(x_train, y_train, epochs=15, callbacks=[es, mc], batch_size=64, validation_split=0.2)"
      ],
      "execution_count": 34,
      "outputs": [
        {
          "output_type": "stream",
          "name": "stdout",
          "text": [
            "Epoch 1/15\n",
            "2745/2745 [==============================] - ETA: 0s - loss: 0.4257 - acc: 0.8043\n",
            "Epoch 00001: val_acc improved from -inf to 0.74912, saving model to movie_game_e75_dnn_model_adam.h1\n",
            "INFO:tensorflow:Assets written to: movie_game_e75_dnn_model_adam.h1/assets\n",
            "2745/2745 [==============================] - 71s 26ms/step - loss: 0.4257 - acc: 0.8043 - val_loss: 0.5109 - val_acc: 0.7491\n",
            "Epoch 2/15\n",
            "2744/2745 [============================>.] - ETA: 0s - loss: 0.3594 - acc: 0.8415\n",
            "Epoch 00002: val_acc did not improve from 0.74912\n",
            "2745/2745 [==============================] - 70s 25ms/step - loss: 0.3594 - acc: 0.8415 - val_loss: 0.5253 - val_acc: 0.7463\n",
            "Epoch 3/15\n",
            "2744/2745 [============================>.] - ETA: 0s - loss: 0.3356 - acc: 0.8520\n",
            "Epoch 00003: val_acc improved from 0.74912 to 0.74964, saving model to movie_game_e75_dnn_model_adam.h1\n",
            "INFO:tensorflow:Assets written to: movie_game_e75_dnn_model_adam.h1/assets\n",
            "2745/2745 [==============================] - 71s 26ms/step - loss: 0.3356 - acc: 0.8520 - val_loss: 0.5240 - val_acc: 0.7496\n",
            "Epoch 4/15\n",
            "2744/2745 [============================>.] - ETA: 0s - loss: 0.3169 - acc: 0.8592\n",
            "Epoch 00004: val_acc did not improve from 0.74964\n",
            "2745/2745 [==============================] - 69s 25ms/step - loss: 0.3170 - acc: 0.8592 - val_loss: 0.5406 - val_acc: 0.7421\n",
            "Epoch 5/15\n",
            "2744/2745 [============================>.] - ETA: 0s - loss: 0.3020 - acc: 0.8644\n",
            "Epoch 00005: val_acc did not improve from 0.74964\n",
            "2745/2745 [==============================] - 69s 25ms/step - loss: 0.3020 - acc: 0.8645 - val_loss: 0.5729 - val_acc: 0.7454\n",
            "Epoch 6/15\n",
            "2744/2745 [============================>.] - ETA: 0s - loss: 0.2895 - acc: 0.8696\n",
            "Epoch 00006: val_acc did not improve from 0.74964\n",
            "2745/2745 [==============================] - 69s 25ms/step - loss: 0.2895 - acc: 0.8696 - val_loss: 0.5903 - val_acc: 0.7409\n",
            "Epoch 7/15\n",
            "2744/2745 [============================>.] - ETA: 0s - loss: 0.2776 - acc: 0.8752\n",
            "Epoch 00007: val_acc did not improve from 0.74964\n",
            "2745/2745 [==============================] - 69s 25ms/step - loss: 0.2776 - acc: 0.8752 - val_loss: 0.6199 - val_acc: 0.7401\n",
            "Epoch 8/15\n",
            "2743/2745 [============================>.] - ETA: 0s - loss: 0.2643 - acc: 0.8803\n",
            "Epoch 00008: val_acc did not improve from 0.74964\n",
            "2745/2745 [==============================] - 68s 25ms/step - loss: 0.2644 - acc: 0.8803 - val_loss: 0.6576 - val_acc: 0.7356\n",
            "Epoch 00008: early stopping\n"
          ]
        }
      ]
    },
    {
      "cell_type": "code",
      "metadata": {
        "id": "U5dt_XuYKfdI",
        "colab": {
          "base_uri": "https://localhost:8080/"
        },
        "outputId": "ecfa57c3-5bb5-4b81-e535-caf8219bd0f0"
      },
      "source": [
        "loaded_model = load_model('movie_game_e75_dnn_model_adam.h1')\n",
        "print(\"\\n DNN e75 adam 게임 영화 테스트 정확도: %.4f\" % (loaded_model.evaluate(x_test, y_test)[1]))\n",
        "print(\"\\n DNN e75 adam 맛집 테스트 정확도: %.4f\" % (loaded_model.evaluate(review_test, review_label)[1]))"
      ],
      "execution_count": 35,
      "outputs": [
        {
          "output_type": "stream",
          "name": "stdout",
          "text": [
            "2301/2301 [==============================] - 4s 2ms/step - loss: 0.4238 - acc: 0.8071\n",
            "\n",
            " DNN e75 adam 게임 영화 테스트 정확도: 0.8071\n",
            "273/273 [==============================] - 1s 2ms/step - loss: 0.3819 - acc: 0.8326\n",
            "\n",
            " DNN e75 adam 맛집 테스트 정확도: 0.8326\n"
          ]
        }
      ]
    },
    {
      "cell_type": "code",
      "metadata": {
        "id": "tWXtZslPKhdL",
        "colab": {
          "base_uri": "https://localhost:8080/"
        },
        "outputId": "2c71b8ac-91d9-4849-b903-c2ef00e96a2d"
      },
      "source": [
        "model_dnn_e75_rmsprop = Sequential()\n",
        "model_dnn_e75_rmsprop.add(Embedding(vocab_size, embedding_dim, input_length=input_length))\n",
        "model_dnn_e75_rmsprop.add(GlobalAveragePooling1D())\n",
        "model_dnn_e75_rmsprop.add(Dense(units=16, activation='relu'))\n",
        "model_dnn_e75_rmsprop.add(Dense(units=4, activation='relu'))\n",
        "model_dnn_e75_rmsprop.add(Dense(units=1, activation='sigmoid'))\n",
        "es = EarlyStopping(monitor='val_loss', mode='min', verbose=1, patience=7)\n",
        "mc = ModelCheckpoint('movie_game_e75_dnn_model_rmsprop.h1', monitor='val_acc', mode='max', verbose=1, save_best_only=True)\n",
        "model_dnn_e75_rmsprop.compile(optimizer='rmsprop', loss='binary_crossentropy', metrics=['acc'])\n",
        "history = model_dnn_e75_rmsprop.fit(x_train, y_train, epochs=15, callbacks=[es, mc], batch_size=64, validation_split=0.2)"
      ],
      "execution_count": 52,
      "outputs": [
        {
          "output_type": "stream",
          "name": "stdout",
          "text": [
            "Epoch 1/15\n",
            "2741/2745 [============================>.] - ETA: 0s - loss: 0.4489 - acc: 0.7916\n",
            "Epoch 00001: val_acc improved from -inf to 0.74764, saving model to movie_game_e75_dnn_model_rmsprop.h1\n",
            "INFO:tensorflow:Assets written to: movie_game_e75_dnn_model_rmsprop.h1/assets\n",
            "2745/2745 [==============================] - 35s 12ms/step - loss: 0.4489 - acc: 0.7916 - val_loss: 0.5205 - val_acc: 0.7476\n",
            "Epoch 2/15\n",
            "2744/2745 [============================>.] - ETA: 0s - loss: 0.3882 - acc: 0.8275\n",
            "Epoch 00002: val_acc improved from 0.74764 to 0.75322, saving model to movie_game_e75_dnn_model_rmsprop.h1\n",
            "INFO:tensorflow:Assets written to: movie_game_e75_dnn_model_rmsprop.h1/assets\n",
            "2745/2745 [==============================] - 34s 12ms/step - loss: 0.3882 - acc: 0.8276 - val_loss: 0.5164 - val_acc: 0.7532\n",
            "Epoch 3/15\n",
            "2742/2745 [============================>.] - ETA: 0s - loss: 0.3806 - acc: 0.8306\n",
            "Epoch 00003: val_acc did not improve from 0.75322\n",
            "2745/2745 [==============================] - 33s 12ms/step - loss: 0.3806 - acc: 0.8306 - val_loss: 0.5141 - val_acc: 0.7498\n",
            "Epoch 4/15\n",
            "2745/2745 [==============================] - ETA: 0s - loss: 0.3767 - acc: 0.8325\n",
            "Epoch 00004: val_acc did not improve from 0.75322\n",
            "2745/2745 [==============================] - 34s 12ms/step - loss: 0.3767 - acc: 0.8325 - val_loss: 0.5138 - val_acc: 0.7527\n",
            "Epoch 5/15\n",
            "2743/2745 [============================>.] - ETA: 0s - loss: 0.3744 - acc: 0.8346\n",
            "Epoch 00005: val_acc improved from 0.75322 to 0.75854, saving model to movie_game_e75_dnn_model_rmsprop.h1\n",
            "INFO:tensorflow:Assets written to: movie_game_e75_dnn_model_rmsprop.h1/assets\n",
            "2745/2745 [==============================] - 34s 12ms/step - loss: 0.3744 - acc: 0.8346 - val_loss: 0.5014 - val_acc: 0.7585\n",
            "Epoch 6/15\n",
            "2741/2745 [============================>.] - ETA: 0s - loss: 0.3721 - acc: 0.8353\n",
            "Epoch 00006: val_acc did not improve from 0.75854\n",
            "2745/2745 [==============================] - 34s 12ms/step - loss: 0.3721 - acc: 0.8353 - val_loss: 0.5140 - val_acc: 0.7502\n",
            "Epoch 7/15\n",
            "2744/2745 [============================>.] - ETA: 0s - loss: 0.3702 - acc: 0.8361\n",
            "Epoch 00007: val_acc did not improve from 0.75854\n",
            "2745/2745 [==============================] - 33s 12ms/step - loss: 0.3701 - acc: 0.8361 - val_loss: 0.5189 - val_acc: 0.7508\n",
            "Epoch 8/15\n",
            "2743/2745 [============================>.] - ETA: 0s - loss: 0.3683 - acc: 0.8375\n",
            "Epoch 00008: val_acc did not improve from 0.75854\n",
            "2745/2745 [==============================] - 33s 12ms/step - loss: 0.3683 - acc: 0.8375 - val_loss: 0.5186 - val_acc: 0.7542\n",
            "Epoch 9/15\n",
            "2741/2745 [============================>.] - ETA: 0s - loss: 0.3665 - acc: 0.8381\n",
            "Epoch 00009: val_acc did not improve from 0.75854\n",
            "2745/2745 [==============================] - 33s 12ms/step - loss: 0.3666 - acc: 0.8381 - val_loss: 0.5077 - val_acc: 0.7539\n",
            "Epoch 10/15\n",
            "2742/2745 [============================>.] - ETA: 0s - loss: 0.3649 - acc: 0.8390\n",
            "Epoch 00010: val_acc did not improve from 0.75854\n",
            "2745/2745 [==============================] - 33s 12ms/step - loss: 0.3650 - acc: 0.8390 - val_loss: 0.5136 - val_acc: 0.7552\n",
            "Epoch 11/15\n",
            "2744/2745 [============================>.] - ETA: 0s - loss: 0.3631 - acc: 0.8414\n",
            "Epoch 00011: val_acc did not improve from 0.75854\n",
            "2745/2745 [==============================] - 33s 12ms/step - loss: 0.3631 - acc: 0.8414 - val_loss: 0.5019 - val_acc: 0.7577\n",
            "Epoch 12/15\n",
            "2742/2745 [============================>.] - ETA: 0s - loss: 0.3616 - acc: 0.8427\n",
            "Epoch 00012: val_acc did not improve from 0.75854\n",
            "2745/2745 [==============================] - 33s 12ms/step - loss: 0.3616 - acc: 0.8427 - val_loss: 0.5092 - val_acc: 0.7561\n",
            "Epoch 00012: early stopping\n"
          ]
        }
      ]
    },
    {
      "cell_type": "code",
      "metadata": {
        "id": "SAm-P_IVKkf8",
        "colab": {
          "base_uri": "https://localhost:8080/"
        },
        "outputId": "895214a0-cdc2-4f89-9d96-56e196442326"
      },
      "source": [
        "loaded_model = load_model('movie_game_e75_dnn_model_rmsprop.h1')\n",
        "print(\"\\n DNN e75 rmsprop 게임 영화 테스트 정확도: %.4f\" % (loaded_model.evaluate(x_test, y_test)[1]))\n",
        "print(\"\\n DNN e75 rmsprop 맛집 테스트 정확도: %.4f\" % (loaded_model.evaluate(review_test, review_label)[1]))"
      ],
      "execution_count": 53,
      "outputs": [
        {
          "output_type": "stream",
          "name": "stdout",
          "text": [
            "2301/2301 [==============================] - 4s 2ms/step - loss: 0.4181 - acc: 0.8095\n",
            "\n",
            " DNN e75 rmsprop 게임 영화 테스트 정확도: 0.8095\n",
            "273/273 [==============================] - 1s 2ms/step - loss: 0.3446 - acc: 0.8741\n",
            "\n",
            " DNN e75 rmsprop 맛집 테스트 정확도: 0.8741\n"
          ]
        }
      ]
    },
    {
      "cell_type": "markdown",
      "metadata": {
        "id": "S8DZFz9GLByz"
      },
      "source": [
        "####- case 3. embedding demension = 50"
      ]
    },
    {
      "cell_type": "code",
      "metadata": {
        "id": "FtWojNQRKnzP",
        "colab": {
          "base_uri": "https://localhost:8080/"
        },
        "outputId": "fc3bbf83-9ec6-496a-9b09-fd0f5e729b61"
      },
      "source": [
        "embedding_dim = 50\n",
        "\n",
        "model_dnn_e50_adam = Sequential()\n",
        "model_dnn_e50_adam.add(Embedding(vocab_size, embedding_dim, input_length=input_length))\n",
        "model_dnn_e50_adam.add(GlobalAveragePooling1D())\n",
        "model_dnn_e50_adam.add(Dense(units=16, activation='relu'))\n",
        "model_dnn_e50_adam.add(Dense(units=4, activation='relu'))\n",
        "model_dnn_e50_adam.add(Dense(units=1, activation='sigmoid'))\n",
        "es = EarlyStopping(monitor='val_loss', mode='min', verbose=1, patience=7)\n",
        "mc = ModelCheckpoint('movie_game_e50_dnn_model_adam.h1', monitor='val_acc', mode='max', verbose=1, save_best_only=True)\n",
        "model_dnn_e50_adam.compile(optimizer='adam', loss='binary_crossentropy', metrics=['acc'])\n",
        "history = model_dnn_e50_adam.fit(x_train, y_train, epochs=15, callbacks=[es, mc], batch_size=64, validation_split=0.2)"
      ],
      "execution_count": 82,
      "outputs": [
        {
          "output_type": "stream",
          "name": "stdout",
          "text": [
            "Epoch 1/15\n",
            "2743/2745 [============================>.] - ETA: 0s - loss: 0.4321 - acc: 0.7990\n",
            "Epoch 00001: val_acc improved from -inf to 0.73643, saving model to movie_game_e50_dnn_model_adam.h1\n",
            "INFO:tensorflow:Assets written to: movie_game_e50_dnn_model_adam.h1/assets\n",
            "2745/2745 [==============================] - 56s 20ms/step - loss: 0.4321 - acc: 0.7990 - val_loss: 0.5398 - val_acc: 0.7364\n",
            "Epoch 2/15\n",
            "2744/2745 [============================>.] - ETA: 0s - loss: 0.3628 - acc: 0.8416\n",
            "Epoch 00002: val_acc improved from 0.73643 to 0.75624, saving model to movie_game_e50_dnn_model_adam.h1\n",
            "INFO:tensorflow:Assets written to: movie_game_e50_dnn_model_adam.h1/assets\n",
            "2745/2745 [==============================] - 54s 20ms/step - loss: 0.3628 - acc: 0.8417 - val_loss: 0.5090 - val_acc: 0.7562\n",
            "Epoch 3/15\n",
            "2743/2745 [============================>.] - ETA: 0s - loss: 0.3423 - acc: 0.8514\n",
            "Epoch 00003: val_acc did not improve from 0.75624\n",
            "2745/2745 [==============================] - 52s 19ms/step - loss: 0.3424 - acc: 0.8514 - val_loss: 0.5241 - val_acc: 0.7461\n",
            "Epoch 4/15\n",
            "2744/2745 [============================>.] - ETA: 0s - loss: 0.3262 - acc: 0.8577\n",
            "Epoch 00004: val_acc did not improve from 0.75624\n",
            "2745/2745 [==============================] - 52s 19ms/step - loss: 0.3262 - acc: 0.8576 - val_loss: 0.5371 - val_acc: 0.7437\n",
            "Epoch 5/15\n",
            "2744/2745 [============================>.] - ETA: 0s - loss: 0.3116 - acc: 0.8618\n",
            "Epoch 00005: val_acc did not improve from 0.75624\n",
            "2745/2745 [==============================] - 52s 19ms/step - loss: 0.3116 - acc: 0.8618 - val_loss: 0.5632 - val_acc: 0.7395\n",
            "Epoch 6/15\n",
            "2744/2745 [============================>.] - ETA: 0s - loss: 0.2990 - acc: 0.8654\n",
            "Epoch 00006: val_acc did not improve from 0.75624\n",
            "2745/2745 [==============================] - 52s 19ms/step - loss: 0.2990 - acc: 0.8653 - val_loss: 0.5881 - val_acc: 0.7477\n",
            "Epoch 7/15\n",
            "2744/2745 [============================>.] - ETA: 0s - loss: 0.2895 - acc: 0.8680\n",
            "Epoch 00007: val_acc did not improve from 0.75624\n",
            "2745/2745 [==============================] - 53s 19ms/step - loss: 0.2895 - acc: 0.8680 - val_loss: 0.6071 - val_acc: 0.7427\n",
            "Epoch 8/15\n",
            "2744/2745 [============================>.] - ETA: 0s - loss: 0.2807 - acc: 0.8707\n",
            "Epoch 00008: val_acc did not improve from 0.75624\n",
            "2745/2745 [==============================] - 53s 19ms/step - loss: 0.2807 - acc: 0.8707 - val_loss: 0.6397 - val_acc: 0.7400\n",
            "Epoch 9/15\n",
            "2745/2745 [==============================] - ETA: 0s - loss: 0.2741 - acc: 0.8733\n",
            "Epoch 00009: val_acc did not improve from 0.75624\n",
            "2745/2745 [==============================] - 53s 19ms/step - loss: 0.2741 - acc: 0.8733 - val_loss: 0.6688 - val_acc: 0.7336\n",
            "Epoch 00009: early stopping\n"
          ]
        }
      ]
    },
    {
      "cell_type": "code",
      "metadata": {
        "id": "3NBScKd7KoXz",
        "colab": {
          "base_uri": "https://localhost:8080/"
        },
        "outputId": "665988f3-1032-4679-c610-be434acfe3ef"
      },
      "source": [
        "loaded_model = load_model('movie_game_e50_dnn_model_adam.h1')\n",
        "print(\"\\n DNN e50 adam 게임 영화 테스트 정확도: %.4f\" % (loaded_model.evaluate(x_test, y_test)[1]))\n",
        "print(\"\\n DNN e50 adam 맛집 테스트 정확도: %.4f\" % (loaded_model.evaluate(review_test, review_label)[1]))"
      ],
      "execution_count": 83,
      "outputs": [
        {
          "output_type": "stream",
          "name": "stdout",
          "text": [
            "2301/2301 [==============================] - 4s 2ms/step - loss: 0.4156 - acc: 0.8101\n",
            "\n",
            " DNN e50 adam 게임 영화 테스트 정확도: 0.8101\n",
            "273/273 [==============================] - 0s 2ms/step - loss: 0.3736 - acc: 0.8455\n",
            "\n",
            " DNN e50 adam 맛집 테스트 정확도: 0.8455\n"
          ]
        }
      ]
    },
    {
      "cell_type": "code",
      "metadata": {
        "id": "kC9SIz_RKqYh",
        "colab": {
          "base_uri": "https://localhost:8080/"
        },
        "outputId": "8353da62-2f25-4230-8acf-9a7e5f3efa74"
      },
      "source": [
        "model_dnn_e50_rmsprop = Sequential()\n",
        "model_dnn_e50_rmsprop.add(Embedding(vocab_size, embedding_dim, input_length=input_length))\n",
        "model_dnn_e50_rmsprop.add(GlobalAveragePooling1D())\n",
        "model_dnn_e50_rmsprop.add(Dense(units=16, activation='relu'))\n",
        "model_dnn_e50_rmsprop.add(Dense(units=4, activation='relu'))\n",
        "model_dnn_e50_rmsprop.add(Dense(units=1, activation='sigmoid'))\n",
        "es = EarlyStopping(monitor='val_loss', mode='min', verbose=1, patience=7)\n",
        "mc = ModelCheckpoint('movie_game_e50_dnn_model_rmsprop.h1', monitor='val_acc', mode='max', verbose=1, save_best_only=True)\n",
        "model_dnn_e50_rmsprop.compile(optimizer='rmsprop', loss='binary_crossentropy', metrics=['acc'])\n",
        "history = model_dnn_e50_rmsprop.fit(x_train, y_train, epochs=15, callbacks=[es, mc], batch_size=64, validation_split=0.2)"
      ],
      "execution_count": 84,
      "outputs": [
        {
          "output_type": "stream",
          "name": "stdout",
          "text": [
            "Epoch 1/15\n",
            "2744/2745 [============================>.] - ETA: 0s - loss: 0.4459 - acc: 0.7958\n",
            "Epoch 00001: val_acc improved from -inf to 0.72944, saving model to movie_game_e50_dnn_model_rmsprop.h1\n",
            "INFO:tensorflow:Assets written to: movie_game_e50_dnn_model_rmsprop.h1/assets\n",
            "2745/2745 [==============================] - 25s 9ms/step - loss: 0.4460 - acc: 0.7957 - val_loss: 0.5405 - val_acc: 0.7294\n",
            "Epoch 2/15\n",
            "2745/2745 [==============================] - ETA: 0s - loss: 0.3881 - acc: 0.8269\n",
            "Epoch 00002: val_acc improved from 0.72944 to 0.74711, saving model to movie_game_e50_dnn_model_rmsprop.h1\n",
            "INFO:tensorflow:Assets written to: movie_game_e50_dnn_model_rmsprop.h1/assets\n",
            "2745/2745 [==============================] - 25s 9ms/step - loss: 0.3881 - acc: 0.8269 - val_loss: 0.5165 - val_acc: 0.7471\n",
            "Epoch 3/15\n",
            "2740/2745 [============================>.] - ETA: 0s - loss: 0.3800 - acc: 0.8311\n",
            "Epoch 00003: val_acc improved from 0.74711 to 0.75547, saving model to movie_game_e50_dnn_model_rmsprop.h1\n",
            "INFO:tensorflow:Assets written to: movie_game_e50_dnn_model_rmsprop.h1/assets\n",
            "2745/2745 [==============================] - 25s 9ms/step - loss: 0.3800 - acc: 0.8311 - val_loss: 0.5078 - val_acc: 0.7555\n",
            "Epoch 4/15\n",
            "2741/2745 [============================>.] - ETA: 0s - loss: 0.3759 - acc: 0.8337\n",
            "Epoch 00004: val_acc did not improve from 0.75547\n",
            "2745/2745 [==============================] - 25s 9ms/step - loss: 0.3760 - acc: 0.8337 - val_loss: 0.5105 - val_acc: 0.7528\n",
            "Epoch 5/15\n",
            "2744/2745 [============================>.] - ETA: 0s - loss: 0.3734 - acc: 0.8349\n",
            "Epoch 00005: val_acc did not improve from 0.75547\n",
            "2745/2745 [==============================] - 24s 9ms/step - loss: 0.3734 - acc: 0.8350 - val_loss: 0.5255 - val_acc: 0.7472\n",
            "Epoch 6/15\n",
            "2740/2745 [============================>.] - ETA: 0s - loss: 0.3711 - acc: 0.8358\n",
            "Epoch 00006: val_acc did not improve from 0.75547\n",
            "2745/2745 [==============================] - 24s 9ms/step - loss: 0.3712 - acc: 0.8358 - val_loss: 0.5169 - val_acc: 0.7521\n",
            "Epoch 7/15\n",
            "2740/2745 [============================>.] - ETA: 0s - loss: 0.3691 - acc: 0.8368\n",
            "Epoch 00007: val_acc improved from 0.75547 to 0.75870, saving model to movie_game_e50_dnn_model_rmsprop.h1\n",
            "INFO:tensorflow:Assets written to: movie_game_e50_dnn_model_rmsprop.h1/assets\n",
            "2745/2745 [==============================] - 25s 9ms/step - loss: 0.3691 - acc: 0.8368 - val_loss: 0.5064 - val_acc: 0.7587\n",
            "Epoch 8/15\n",
            "2741/2745 [============================>.] - ETA: 0s - loss: 0.3673 - acc: 0.8376\n",
            "Epoch 00008: val_acc did not improve from 0.75870\n",
            "2745/2745 [==============================] - 23s 8ms/step - loss: 0.3673 - acc: 0.8376 - val_loss: 0.5153 - val_acc: 0.7538\n",
            "Epoch 9/15\n",
            "2745/2745 [==============================] - ETA: 0s - loss: 0.3658 - acc: 0.8375\n",
            "Epoch 00009: val_acc did not improve from 0.75870\n",
            "2745/2745 [==============================] - 24s 9ms/step - loss: 0.3658 - acc: 0.8375 - val_loss: 0.5201 - val_acc: 0.7541\n",
            "Epoch 10/15\n",
            "2745/2745 [==============================] - ETA: 0s - loss: 0.3643 - acc: 0.8384\n",
            "Epoch 00010: val_acc did not improve from 0.75870\n",
            "2745/2745 [==============================] - 24s 9ms/step - loss: 0.3643 - acc: 0.8384 - val_loss: 0.5180 - val_acc: 0.7550\n",
            "Epoch 11/15\n",
            "2742/2745 [============================>.] - ETA: 0s - loss: 0.3627 - acc: 0.8393\n",
            "Epoch 00011: val_acc did not improve from 0.75870\n",
            "2745/2745 [==============================] - 24s 9ms/step - loss: 0.3627 - acc: 0.8392 - val_loss: 0.5177 - val_acc: 0.7520\n",
            "Epoch 12/15\n",
            "2741/2745 [============================>.] - ETA: 0s - loss: 0.3615 - acc: 0.8390\n",
            "Epoch 00012: val_acc did not improve from 0.75870\n",
            "2745/2745 [==============================] - 24s 9ms/step - loss: 0.3615 - acc: 0.8391 - val_loss: 0.5288 - val_acc: 0.7501\n",
            "Epoch 13/15\n",
            "2740/2745 [============================>.] - ETA: 0s - loss: 0.3598 - acc: 0.8409\n",
            "Epoch 00013: val_acc did not improve from 0.75870\n",
            "2745/2745 [==============================] - 24s 9ms/step - loss: 0.3598 - acc: 0.8410 - val_loss: 0.5127 - val_acc: 0.7513\n",
            "Epoch 14/15\n",
            "2745/2745 [==============================] - ETA: 0s - loss: 0.3584 - acc: 0.8416\n",
            "Epoch 00014: val_acc did not improve from 0.75870\n",
            "2745/2745 [==============================] - 24s 9ms/step - loss: 0.3584 - acc: 0.8416 - val_loss: 0.5217 - val_acc: 0.7471\n",
            "Epoch 00014: early stopping\n"
          ]
        }
      ]
    },
    {
      "cell_type": "code",
      "metadata": {
        "id": "en0saNavKt1w",
        "colab": {
          "base_uri": "https://localhost:8080/"
        },
        "outputId": "3a07b45f-c2b7-4aee-fb9f-8a4a34df440d"
      },
      "source": [
        "loaded_model = load_model('movie_game_e50_dnn_model_rmsprop.h1')\n",
        "print(\"\\n DNN e50 rmsprop 게임 영화 테스트 정확도: %.4f\" % (loaded_model.evaluate(x_test, y_test)[1]))\n",
        "print(\"\\n DNN e50 rmsprop 맛집 테스트 정확도: %.4f\" % (loaded_model.evaluate(review_test, review_label)[1]))\n"
      ],
      "execution_count": 85,
      "outputs": [
        {
          "output_type": "stream",
          "name": "stdout",
          "text": [
            "2301/2301 [==============================] - 4s 2ms/step - loss: 0.4160 - acc: 0.8096\n",
            "\n",
            " DNN e50 rmsprop 게임 영화 테스트 정확도: 0.8096\n",
            "273/273 [==============================] - 0s 2ms/step - loss: 0.3748 - acc: 0.8752\n",
            "\n",
            " DNN e50 rmsprop 맛집 테스트 정확도: 0.8752\n"
          ]
        }
      ]
    },
    {
      "cell_type": "markdown",
      "metadata": {
        "id": "ZfwbLN5e_zDU"
      },
      "source": [
        "##2.LSTM Model"
      ]
    },
    {
      "cell_type": "markdown",
      "metadata": {
        "id": "VI4BEKiB93xX"
      },
      "source": [
        "###Hidden state = 64"
      ]
    },
    {
      "cell_type": "code",
      "metadata": {
        "id": "ClavRs929wyO"
      },
      "source": [
        "embedding_dim = 100\n",
        "hidden_units = 64\n",
        "epoch = 5\n",
        "\n",
        "print(\"lstm model with adam optimizer\")\n",
        "lstm_model_adam = Sequential()\n",
        "lstm_model_adam.add(Embedding(vocab_size, embedding_dim))\n",
        "lstm_model_adam.add(LSTM(hidden_units))\n",
        "lstm_model_adam.add(Dense(1, activation='sigmoid'))\n",
        "\n",
        "lstm_model_adam.compile(optimizer='adam', loss='binary_crossentropy', metrics=['accuracy'])\n",
        "lstm_model_adam_history = lstm_model_adam.fit(x_train, y_train, epochs=epoch, batch_size=64, validation_split=0.2)\n",
        "print(\"\\n Test accuracy: %.4f\" % (lstm_model_adam.evaluate(x_test, y_test)[1]))\n",
        "\n",
        "lstm_model_adam.save('lstm_model_adam.h5')\n",
        "\n",
        "\n",
        "print(\"lstm model with rmsprop optimizer\")\n",
        "lstm_model_rmsprop = Sequential()\n",
        "lstm_model_rmsprop.add(Embedding(vocab_size, embedding_dim))\n",
        "lstm_model_rmsprop.add(LSTM(hidden_units))\n",
        "lstm_model_rmsprop.add(Dense(1, activation='sigmoid'))\n",
        "\n",
        "lstm_model_rmsprop.compile(optimizer='rmsprop', loss='binary_crossentropy', metrics=['accuracy'])\n",
        "lstm_model_rmsprop_history = lstm_model_rmsprop.fit(x_train, y_train, epochs=epoch, batch_size=64, validation_split=0.2)\n",
        "print(\"\\n Test accuracy: %.4f\" % (lstm_model_rmsprop.evaluate(x_test, y_test)[1]))\n",
        "\n",
        "#saving\n",
        "lstm_model_rmsprop.save('lstm_model_rmsprop.h5')"
      ],
      "execution_count": null,
      "outputs": []
    },
    {
      "cell_type": "code",
      "metadata": {
        "id": "V5ZPRwSsAplI"
      },
      "source": [
        "print(\"\\n LSTM Adam 맛집테스트 정확도 %.4f\" % (lstm_model_adam.evaluate(review_test, review_label)[1]))\n",
        "print(\"\\n LSTM RMSProp 맛집테스트 정확도: %.4f\" % (lstm_model_rmsprop.evaluate(review_test, review_label)[1]))"
      ],
      "execution_count": null,
      "outputs": []
    },
    {
      "cell_type": "markdown",
      "metadata": {
        "id": "tlHMZToH9y6u"
      },
      "source": [
        "###Hidden state = 128"
      ]
    },
    {
      "cell_type": "code",
      "metadata": {
        "id": "HPXe5Mqf_5q8"
      },
      "source": [
        "embedding_dim = 100\n",
        "hidden_units = 128\n",
        "epoch = 5\n",
        "\n",
        "print(\"lstm model with adam optimizer\")\n",
        "lstm_model_adam2 = Sequential()\n",
        "lstm_model_adam2.add(Embedding(vocab_size, embedding_dim))\n",
        "lstm_model_adam2.add(LSTM(hidden_units))\n",
        "lstm_model_adam2.add(Dense(1, activation='sigmoid'))\n",
        "\n",
        "lstm_model_adam2.compile(optimizer='adam', loss='binary_crossentropy', metrics=['accuracy'])\n",
        "lstm_model_adam_history2 = lstm_model_adam2.fit(x_train, y_train, epochs=epoch, batch_size=64, validation_split=0.2)\n",
        "print(\"\\n Test accuracy: %.4f\" % (lstm_model_adam2.evaluate(x_test, y_test)[1]))\n",
        "\n",
        "lstm_model_adam2.save('lstm_model_adam2.h5')\n",
        "\n",
        "\n",
        "print(\"lstm model with rmsprop optimizer\")\n",
        "lstm_model_rmsprop2 = Sequential()\n",
        "lstm_model_rmsprop2.add(Embedding(vocab_size, embedding_dim))\n",
        "lstm_model_rmsprop2.add(LSTM(hidden_units))\n",
        "lstm_model_rmsprop2.add(Dense(1, activation='sigmoid'))\n",
        "\n",
        "lstm_model_rmsprop2.compile(optimizer='rmsprop', loss='binary_crossentropy', metrics=['accuracy'])\n",
        "lstm_model_rmsprop_history2 = lstm_model_rmsprop2.fit(x_train, y_train, epochs=epoch, batch_size=64, validation_split=0.2)\n",
        "print(\"\\n Test accuracy: %.4f\" % (lstm_model_rmsprop2.evaluate(x_test, y_test)[1]))\n",
        "\n",
        "#saving\n",
        "lstm_model_rmsprop2.save('lstm_model_rmsprop2.h5')"
      ],
      "execution_count": null,
      "outputs": []
    },
    {
      "cell_type": "code",
      "metadata": {
        "id": "FjaCQpNwQvHp"
      },
      "source": [
        "print(\"\\n LSTM Adam 맛집테스트 정확도 %.4f\" % (lstm_model_adam2.evaluate(review_test, review_label)[1]))\n",
        "print(\"\\n LSTM RMSProp 맛집테스트 정확도: %.4f\" % (lstm_model_rmsprop2.evaluate(review_test, review_label)[1]))"
      ],
      "execution_count": null,
      "outputs": []
    },
    {
      "cell_type": "markdown",
      "metadata": {
        "id": "CZ6ZBC6uLGqI"
      },
      "source": [
        "##3.Bidirectional LSTM Model"
      ]
    },
    {
      "cell_type": "markdown",
      "metadata": {
        "id": "vFiBUPXF72vC"
      },
      "source": [
        "####Hidden state = 64"
      ]
    },
    {
      "cell_type": "code",
      "metadata": {
        "id": "2hQKShhM7s7i"
      },
      "source": [
        "embedding_dim = 100\n",
        "hidden_units = 64\n",
        "input_length = max_len\n",
        "\n",
        "model_bilstm_adam = Sequential()\n",
        "model_bilstm_adam.add(Embedding(vocab_size, embedding_dim))\n",
        "model_bilstm_adam.add(Bidirectional(LSTM(hidden_units)))\n",
        "model_bilstm_adam.add(Dense(1, activation='sigmoid'))\n",
        "es = EarlyStopping(monitor='val_loss', mode='min', verbose=1, patience=7)\n",
        "mc = ModelCheckpoint('movie_game_e50_h64_bilstm_model_adam.h1', monitor='val_acc', mode='max', verbose=1, save_best_only=True)\n",
        "\n",
        "model_bilstm_adam.compile(optimizer='adam', loss='binary_crossentropy', metrics=['acc'])\n",
        "history = model_bilstm_adam.fit(x_train, y_train, epochs=15, callbacks=[es, mc], batch_size=64, validation_split=0.2)"
      ],
      "execution_count": null,
      "outputs": []
    },
    {
      "cell_type": "code",
      "metadata": {
        "id": "-MSAPLtQ7u2x"
      },
      "source": [
        "loaded_model = load_model('movie_game_e50_h64_bilstm_model_adam.h1')\n",
        "print(\"\\n 테스트 정확도: %.4f\" % (loaded_model.evaluate(x_test, y_test)[1]))\n",
        "print(\"\\n BiLSTM Adam 맛집 테스트 정확도: %.4f\" % (loaded_model.evaluate(review_test, review_label)[1]))"
      ],
      "execution_count": null,
      "outputs": []
    },
    {
      "cell_type": "code",
      "metadata": {
        "id": "ou9HM4H78MrV"
      },
      "source": [
        "model_bilstm_adam = Sequential()\n",
        "model_bilstm_adam.add(Embedding(vocab_size, embedding_dim))\n",
        "model_bilstm_adam.add(Bidirectional(LSTM(hidden_units)))\n",
        "model_bilstm_adam.add(Dense(1, activation='sigmoid'))\n",
        "es = EarlyStopping(monitor='val_loss', mode='min', verbose=1, patience=7)\n",
        "mc = ModelCheckpoint('movie_game_e50_h64_bilstm_model_rmsprop.h1', monitor='val_acc', mode='max', verbose=1, save_best_only=True)\n",
        "\n",
        "model_bilstm_adam.compile(optimizer='rmsprop', loss='binary_crossentropy', metrics=['acc'])\n",
        "history = model_bilstm_adam.fit(x_train, y_train, epochs=15, callbacks=[es, mc], batch_size=64, validation_split=0.2)"
      ],
      "execution_count": null,
      "outputs": []
    },
    {
      "cell_type": "code",
      "metadata": {
        "id": "gPYXzhVV8R-z"
      },
      "source": [
        "loaded_model = load_model('movie_game_e50_h64_bilstm_model_rmsprop.h1')\n",
        "print(\"\\n 테스트 정확도: %.4f\" % (loaded_model.evaluate(x_test, y_test)[1]))\n",
        "print(\"\\n BiLSTM RMSProp 맛집 테스트 정확도: %.4f\" % (loaded_model.evaluate(review_test, review_label)[1]))"
      ],
      "execution_count": null,
      "outputs": []
    },
    {
      "cell_type": "markdown",
      "metadata": {
        "id": "gddaU-6o7-XI"
      },
      "source": [
        "####Hidden state = 128"
      ]
    },
    {
      "cell_type": "code",
      "metadata": {
        "id": "szMcLYPdsvKJ"
      },
      "source": [
        "embedding_dim = 100\n",
        "hidden_units = 128\n",
        "input_length = max_len\n",
        "\n",
        "model_bilstm_adam = Sequential()\n",
        "model_bilstm_adam.add(Embedding(vocab_size, embedding_dim))\n",
        "model_bilstm_adam.add(Bidirectional(LSTM(hidden_units)))\n",
        "model_bilstm_adam.add(Dense(1, activation='sigmoid'))\n",
        "es = EarlyStopping(monitor='val_loss', mode='min', verbose=1, patience=7)\n",
        "mc = ModelCheckpoint('movie_game_e50_h128_bilstm_model_adam.h1', monitor='val_acc', mode='max', verbose=1, save_best_only=True)\n",
        "\n",
        "model_bilstm_adam.compile(optimizer='adam', loss='binary_crossentropy', metrics=['acc'])\n",
        "history = model_bilstm_adam.fit(x_train, y_train, epochs=15, callbacks=[es, mc], batch_size=64, validation_split=0.2)"
      ],
      "execution_count": null,
      "outputs": []
    },
    {
      "cell_type": "code",
      "metadata": {
        "id": "dawJLKoyXtIr"
      },
      "source": [
        "loaded_model = load_model('movie_game_e50_h128_bilstm_model_adam.h1')\n",
        "print(\"\\n 테스트 정확도: %.4f\" % (loaded_model.evaluate(x_test, y_test)[1]))\n",
        "print(\"\\n BiLSTM Adam 맛집 테스트 정확도: %.4f\" % (loaded_model.evaluate(review_test, review_label)[1]))"
      ],
      "execution_count": null,
      "outputs": []
    },
    {
      "cell_type": "code",
      "metadata": {
        "id": "VafTXmQiYFSF"
      },
      "source": [
        "model_bilstm_adam = Sequential()\n",
        "model_bilstm_adam.add(Embedding(vocab_size, embedding_dim))\n",
        "model_bilstm_adam.add(Bidirectional(LSTM(hidden_units)))\n",
        "model_bilstm_adam.add(Dense(1, activation='sigmoid'))\n",
        "es = EarlyStopping(monitor='val_loss', mode='min', verbose=1, patience=7)\n",
        "mc = ModelCheckpoint('movie_game_e50_h128_bilstm_model_rmsprop.h1', monitor='val_acc', mode='max', verbose=1, save_best_only=True)\n",
        "\n",
        "model_bilstm_adam.compile(optimizer='rmsprop', loss='binary_crossentropy', metrics=['acc'])\n",
        "history = model_bilstm_adam.fit(x_train, y_train, epochs=15, callbacks=[es, mc], batch_size=64, validation_split=0.2)"
      ],
      "execution_count": null,
      "outputs": []
    },
    {
      "cell_type": "code",
      "metadata": {
        "id": "rap8yd0qYH-6"
      },
      "source": [
        "loaded_model = load_model('movie_game_e50_h128_bilstm_model_rmsprop.h1')\n",
        "print(\"\\n 테스트 정확도: %.4f\" % (loaded_model.evaluate(x_test, y_test)[1]))\n",
        "print(\"\\n BiLSTM RMSProp 맛집 테스트 정확도: %.4f\" % (loaded_model.evaluate(review_test, review_label)[1]))"
      ],
      "execution_count": null,
      "outputs": []
    },
    {
      "cell_type": "markdown",
      "metadata": {
        "id": "3aed39rm8CQC"
      },
      "source": [
        "####Hidden state = 256"
      ]
    },
    {
      "cell_type": "code",
      "metadata": {
        "id": "K3prz30W8A19"
      },
      "source": [
        "embedding_dim = 100\n",
        "hidden_units = 256\n",
        "input_length = max_len\n",
        "\n",
        "model_bilstm_adam = Sequential()\n",
        "model_bilstm_adam.add(Embedding(vocab_size, embedding_dim))\n",
        "model_bilstm_adam.add(Bidirectional(LSTM(hidden_units)))\n",
        "model_bilstm_adam.add(Dense(1, activation='sigmoid'))\n",
        "es = EarlyStopping(monitor='val_loss', mode='min', verbose=1, patience=7)\n",
        "mc = ModelCheckpoint('movie_game_e50_h256_bilstm_model_adam.h1', monitor='val_acc', mode='max', verbose=1, save_best_only=True)\n",
        "\n",
        "model_bilstm_adam.compile(optimizer='adam', loss='binary_crossentropy', metrics=['acc'])\n",
        "history = model_bilstm_adam.fit(x_train, y_train, epochs=15, callbacks=[es, mc], batch_size=64, validation_split=0.2)"
      ],
      "execution_count": null,
      "outputs": []
    },
    {
      "cell_type": "code",
      "metadata": {
        "id": "KpdgUlU38rLA"
      },
      "source": [
        "loaded_model = load_model('movie_game_e50_h256_bilstm_model_adam.h1')\n",
        "print(\"\\n 테스트 정확도: %.4f\" % (loaded_model.evaluate(x_test, y_test)[1]))\n",
        "print(\"\\n BiLSTM Adam 맛집 테스트 정확도: %.4f\" % (loaded_model.evaluate(review_test, review_label)[1]))"
      ],
      "execution_count": null,
      "outputs": []
    },
    {
      "cell_type": "code",
      "metadata": {
        "id": "jeT9Iuli8rgo"
      },
      "source": [
        "model_bilstm_adam = Sequential()\n",
        "model_bilstm_adam.add(Embedding(vocab_size, embedding_dim))\n",
        "model_bilstm_adam.add(Bidirectional(LSTM(hidden_units)))\n",
        "model_bilstm_adam.add(Dense(1, activation='sigmoid'))\n",
        "es = EarlyStopping(monitor='val_loss', mode='min', verbose=1, patience=7)\n",
        "mc = ModelCheckpoint('movie_game_e50_h256_bilstm_model_rmsprop.h1', monitor='val_acc', mode='max', verbose=1, save_best_only=True)\n",
        "\n",
        "model_bilstm_adam.compile(optimizer='rmsprop', loss='binary_crossentropy', metrics=['acc'])\n",
        "history = model_bilstm_adam.fit(x_train, y_train, epochs=15, callbacks=[es, mc], batch_size=64, validation_split=0.2)"
      ],
      "execution_count": null,
      "outputs": []
    },
    {
      "cell_type": "code",
      "metadata": {
        "id": "wMRjNXwd8r2K"
      },
      "source": [
        "loaded_model = load_model('movie_game_e50_h256_bilstm_model_rmsprop.h1')\n",
        "print(\"\\n 테스트 정확도: %.4f\" % (loaded_model.evaluate(x_test, y_test)[1]))\n",
        "print(\"\\n BiLSTM Adam 맛집 테스트 정확도: %.4f\" % (loaded_model.evaluate(review_test, review_label)[1]))"
      ],
      "execution_count": null,
      "outputs": []
    }
  ]
}